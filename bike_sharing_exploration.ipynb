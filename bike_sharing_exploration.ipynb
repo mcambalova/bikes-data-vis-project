{
 "cells": [
  {
   "cell_type": "markdown",
   "metadata": {},
   "source": [
    "# Bike Sharing: Data Visualization Project\n",
    "## by Maria Cambalova\n",
    "\n",
    "## Introduction\n",
    "In this project, the [data on rides made in a bike-sharing system](https://www.lyft.com/bikes/bay-wheels/system-data) is explored using various visualizations (univariate, bivariate and multivariate). The available data span over four years (2017-2020), but I'll use only data from years 2017 and 2018. One row or record is one bike ride. The data is anonymized.<br><br>\n",
    "The data contains following features:\n",
    "- __trip duration__ (`duration_sec`): total duration of one ride in seconds\n",
    "- __start date and time__ (`start_time`): time and date when the ride started\n",
    "- __end date and time__ (`end_time`): time and date when the ride ended\n",
    "- __start station ID__ (`start_station_id`): start station identifier\n",
    "- __start station name__ (`start_station_name`): name of the start station\n",
    "- __start station latitude__ (`start_station_latitude`): the latitude coordinate of the start station\n",
    "- __start station longitude__ (`start_station_longitude`): the longitude coordinate of the start station\n",
    "- __end station ID__ (`end_station_id`): end station identifier\n",
    "- __end station name__ (`end_station_name`): name of the start station\n",
    "- __end station latitude__ (`end_station_latitude`): the latitude coordinate of the end station\n",
    "- __end station longitude__ (`end_station_longitude`): the longitude coordinate of the end station\n",
    "- __bike ID__ (`bike_id`): the bike identifier\n",
    "- __user type__ (`user_type`): whether the user is a regular one, i.e. member ('Subscriber') or a casual one ('Customer')\n",
    "- __Bike Share for All__ (`bike_share_for_all_trip`): whether the ride was within the [Bike Share for All](https://www.lyft.com/bikes/bay-wheels/bike-share-for-all) program, not available for 2017 rides"
   ]
  },
  {
   "cell_type": "markdown",
   "metadata": {},
   "source": [
    "## Preliminary Wrangling"
   ]
  },
  {
   "cell_type": "markdown",
   "metadata": {},
   "source": [
    "I'll divide this section into two parts: \n",
    "- [Data Gathering](#data_gathering) - download the data and load it into a dataframe\n",
    "- [Data Wrangling](#data_wrangling) - quickly explore the data, clean if necessary and prepare it for further exploratory visualizations    \n",
    "\n",
    "But first, import all packages used in data wrangling and subsequent visualizations:"
   ]
  },
  {
   "cell_type": "code",
   "execution_count": 1,
   "metadata": {},
   "outputs": [],
   "source": [
    "# NumPy and Pandas\n",
    "import numpy as np\n",
    "import pandas as pd\n",
    "\n",
    "# Packages to gather and manipulate with files\n",
    "import glob\n",
    "import os\n",
    "import requests\n",
    "import zipfile\n",
    "\n",
    "# Visualization packages\n",
    "import matplotlib.pyplot as plt\n",
    "import seaborn as sb\n",
    "\n",
    "# Set matplotlib backend\n",
    "%matplotlib inline"
   ]
  },
  {
   "cell_type": "markdown",
   "metadata": {},
   "source": [
    "<a name='data_gathering'></a>\n",
    "### Data Gathering"
   ]
  },
  {
   "cell_type": "markdown",
   "metadata": {},
   "source": [
    "I'd like to analyze bike-sharing data from the years 2017 and 2018. While there is only one file for 2017, the 2018 data is stored in separate month files (there are 12 files containing bike-sharing data for the year 2018). Therefore, I'll download the data programmatically: \n",
    "1. construct the file names using year, month and string '-fordgobike-tripdata.csv.zip' common for all the files\n",
    "2. construct the full files' urls\n",
    "3. download and store the files in the folder called 'data'  \n",
    "\n",
    "When creating the file names using months, the numbers have to be padded with a leading zero. This can be accomplished using numpy's [zfill](https://numpy.org/doc/stable/reference/generated/numpy.char.zfill.html) method, as shown here: [Adding leading zeros to strings in NumPy array](https://stackoverflow.com/questions/55376333/adding-leading-zeros-to-strings-in-numpy-array)."
   ]
  },
  {
   "cell_type": "code",
   "execution_count": 2,
   "metadata": {},
   "outputs": [],
   "source": [
    "# Create folder data to store csv files if the folder does not exist\n",
    "folder_name = 'data'\n",
    "if not os.path.exists(folder_name):\n",
    "    os.makedirs(folder_name)"
   ]
  },
  {
   "cell_type": "code",
   "execution_count": 3,
   "metadata": {},
   "outputs": [
    {
     "name": "stdout",
     "output_type": "stream",
     "text": [
      "Downloading 2017-fordgobike-tripdata.csv.zip\n",
      "Downloading 201801-fordgobike-tripdata.csv.zip\n",
      "Downloading 201802-fordgobike-tripdata.csv.zip\n",
      "Downloading 201803-fordgobike-tripdata.csv.zip\n",
      "Downloading 201804-fordgobike-tripdata.csv.zip\n",
      "Downloading 201805-fordgobike-tripdata.csv.zip\n",
      "Downloading 201806-fordgobike-tripdata.csv.zip\n",
      "Downloading 201807-fordgobike-tripdata.csv.zip\n",
      "Downloading 201808-fordgobike-tripdata.csv.zip\n",
      "Downloading 201809-fordgobike-tripdata.csv.zip\n",
      "Downloading 201810-fordgobike-tripdata.csv.zip\n",
      "Downloading 201811-fordgobike-tripdata.csv.zip\n",
      "Downloading 201812-fordgobike-tripdata.csv.zip\n"
     ]
    }
   ],
   "source": [
    "# Create lists of years and months\n",
    "years = ['2017', '2018']\n",
    "months = months = np.char.zfill(np.arange(1, 13).astype(str), 2)\n",
    "\n",
    "# Testing\n",
    "# years = ['2017', '2018']\n",
    "# months = months = np.char.zfill(np.arange(1, 2).astype(str), 2)\n",
    "\n",
    "# Every file of interest ends with the following string - keep it in file_sfx\n",
    "file_sfx = '-fordgobike-tripdata.csv.zip'\n",
    "\n",
    "# The url address (without the file name)\n",
    "url_pfx = 'https://s3.amazonaws.com/baywheels-data/'\n",
    "\n",
    "# Loop over files - start with the year\n",
    "for year in years:\n",
    "    # There is only one file collecting all data in case of the year 2017\n",
    "    if year == '2017':\n",
    "        print('Downloading {}'.format(year + file_sfx))\n",
    "        # Construct the full file name using year and file suffix\n",
    "        file = year + file_sfx\n",
    "        # Download the file and store it\n",
    "        response = requests.get(url_pfx + file)\n",
    "        with open(os.path.join(folder_name, file), mode = 'wb') as file:\n",
    "            file.write(response.content)\n",
    "    \n",
    "    # Data for the year 2018 is in separate files according to months\n",
    "    else:\n",
    "        for month in months:\n",
    "            print('Downloading {}'.format(year + month + file_sfx))\n",
    "            # Construct the full file name using year, month and file suffix\n",
    "            file = year + month + file_sfx\n",
    "            # Download the file and store it\n",
    "            response = requests.get(url_pfx + file)\n",
    "            with open(os.path.join(folder_name, file), mode = 'wb') as file:\n",
    "                file.write(response.content)"
   ]
  },
  {
   "cell_type": "markdown",
   "metadata": {},
   "source": [
    "Next, unzip the compressed files after the data has been successfully downloaded using the [zipfile](https://docs.python.org/3/library/zipfile.html) module; see also [Unzipping files in Python](https://stackoverflow.com/questions/3451111/unzipping-files-in-python). Also, use the [glob](https://docs.python.org/3/library/glob.html) library to retrieve the names of zip files, as learnt in the Data Wrangling part of Data Analyst Nanodegree Program at Udacity."
   ]
  },
  {
   "cell_type": "code",
   "execution_count": 4,
   "metadata": {},
   "outputs": [],
   "source": [
    "# Loop over all downloaded files and extract csv files\n",
    "for zip_file in glob.glob(folder_name + '/*.zip'):\n",
    "    with zipfile.ZipFile(zip_file, mode = 'r') as file:\n",
    "        file.extractall(folder_name)"
   ]
  },
  {
   "cell_type": "markdown",
   "metadata": {},
   "source": [
    "Finally, load the data into a Pandas dataframe `bikes`:"
   ]
  },
  {
   "cell_type": "code",
   "execution_count": 5,
   "metadata": {},
   "outputs": [],
   "source": [
    "# Create empty dataframe to store the data\n",
    "bikes = pd.DataFrame()\n",
    "\n",
    "# Loop over csv files and add them to the target dataframe one by one\n",
    "for csv_file in glob.glob(folder_name + '/*.csv'):\n",
    "    bikes_tmp = pd.read_csv(csv_file)\n",
    "    bikes = pd.concat([bikes, bikes_tmp], ignore_index = True, axis = 0, sort = False)"
   ]
  },
  {
   "cell_type": "markdown",
   "metadata": {},
   "source": [
    "<a name='data_wrangling'></a>\n",
    "### Data Wrangling\n",
    "Let's examine the bike-sharing data and decide which features would be interesting to look at:"
   ]
  },
  {
   "cell_type": "code",
   "execution_count": 6,
   "metadata": {},
   "outputs": [
    {
     "data": {
      "text/html": [
       "<div>\n",
       "<style scoped>\n",
       "    .dataframe tbody tr th:only-of-type {\n",
       "        vertical-align: middle;\n",
       "    }\n",
       "\n",
       "    .dataframe tbody tr th {\n",
       "        vertical-align: top;\n",
       "    }\n",
       "\n",
       "    .dataframe thead th {\n",
       "        text-align: right;\n",
       "    }\n",
       "</style>\n",
       "<table border=\"1\" class=\"dataframe\">\n",
       "  <thead>\n",
       "    <tr style=\"text-align: right;\">\n",
       "      <th></th>\n",
       "      <th>duration_sec</th>\n",
       "      <th>start_time</th>\n",
       "      <th>end_time</th>\n",
       "      <th>start_station_id</th>\n",
       "      <th>start_station_name</th>\n",
       "      <th>start_station_latitude</th>\n",
       "      <th>start_station_longitude</th>\n",
       "      <th>end_station_id</th>\n",
       "      <th>end_station_name</th>\n",
       "      <th>end_station_latitude</th>\n",
       "      <th>end_station_longitude</th>\n",
       "      <th>bike_id</th>\n",
       "      <th>user_type</th>\n",
       "      <th>bike_share_for_all_trip</th>\n",
       "    </tr>\n",
       "  </thead>\n",
       "  <tbody>\n",
       "    <tr>\n",
       "      <th>0</th>\n",
       "      <td>80110</td>\n",
       "      <td>2017-12-31 16:57:39.6540</td>\n",
       "      <td>2018-01-01 15:12:50.2450</td>\n",
       "      <td>74.0</td>\n",
       "      <td>Laguna St at Hayes St</td>\n",
       "      <td>37.776435</td>\n",
       "      <td>-122.426244</td>\n",
       "      <td>43.0</td>\n",
       "      <td>San Francisco Public Library (Grove St at Hyde...</td>\n",
       "      <td>37.778768</td>\n",
       "      <td>-122.415929</td>\n",
       "      <td>96</td>\n",
       "      <td>Customer</td>\n",
       "      <td>NaN</td>\n",
       "    </tr>\n",
       "    <tr>\n",
       "      <th>1</th>\n",
       "      <td>78800</td>\n",
       "      <td>2017-12-31 15:56:34.8420</td>\n",
       "      <td>2018-01-01 13:49:55.6170</td>\n",
       "      <td>284.0</td>\n",
       "      <td>Yerba Buena Center for the Arts (Howard St at ...</td>\n",
       "      <td>37.784872</td>\n",
       "      <td>-122.400876</td>\n",
       "      <td>96.0</td>\n",
       "      <td>Dolores St at 15th St</td>\n",
       "      <td>37.766210</td>\n",
       "      <td>-122.426614</td>\n",
       "      <td>88</td>\n",
       "      <td>Customer</td>\n",
       "      <td>NaN</td>\n",
       "    </tr>\n",
       "    <tr>\n",
       "      <th>2</th>\n",
       "      <td>45768</td>\n",
       "      <td>2017-12-31 22:45:48.4110</td>\n",
       "      <td>2018-01-01 11:28:36.8830</td>\n",
       "      <td>245.0</td>\n",
       "      <td>Downtown Berkeley BART</td>\n",
       "      <td>37.870348</td>\n",
       "      <td>-122.267764</td>\n",
       "      <td>245.0</td>\n",
       "      <td>Downtown Berkeley BART</td>\n",
       "      <td>37.870348</td>\n",
       "      <td>-122.267764</td>\n",
       "      <td>1094</td>\n",
       "      <td>Customer</td>\n",
       "      <td>NaN</td>\n",
       "    </tr>\n",
       "    <tr>\n",
       "      <th>3</th>\n",
       "      <td>62172</td>\n",
       "      <td>2017-12-31 17:31:10.6360</td>\n",
       "      <td>2018-01-01 10:47:23.5310</td>\n",
       "      <td>60.0</td>\n",
       "      <td>8th St at Ringold St</td>\n",
       "      <td>37.774520</td>\n",
       "      <td>-122.409449</td>\n",
       "      <td>5.0</td>\n",
       "      <td>Powell St BART Station (Market St at 5th St)</td>\n",
       "      <td>37.783899</td>\n",
       "      <td>-122.408445</td>\n",
       "      <td>2831</td>\n",
       "      <td>Customer</td>\n",
       "      <td>NaN</td>\n",
       "    </tr>\n",
       "    <tr>\n",
       "      <th>4</th>\n",
       "      <td>43603</td>\n",
       "      <td>2017-12-31 14:23:14.0010</td>\n",
       "      <td>2018-01-01 02:29:57.5710</td>\n",
       "      <td>239.0</td>\n",
       "      <td>Bancroft Way at Telegraph Ave</td>\n",
       "      <td>37.868813</td>\n",
       "      <td>-122.258764</td>\n",
       "      <td>247.0</td>\n",
       "      <td>Fulton St at Bancroft Way</td>\n",
       "      <td>37.867789</td>\n",
       "      <td>-122.265896</td>\n",
       "      <td>3167</td>\n",
       "      <td>Subscriber</td>\n",
       "      <td>NaN</td>\n",
       "    </tr>\n",
       "  </tbody>\n",
       "</table>\n",
       "</div>"
      ],
      "text/plain": [
       "   duration_sec                start_time                  end_time  \\\n",
       "0         80110  2017-12-31 16:57:39.6540  2018-01-01 15:12:50.2450   \n",
       "1         78800  2017-12-31 15:56:34.8420  2018-01-01 13:49:55.6170   \n",
       "2         45768  2017-12-31 22:45:48.4110  2018-01-01 11:28:36.8830   \n",
       "3         62172  2017-12-31 17:31:10.6360  2018-01-01 10:47:23.5310   \n",
       "4         43603  2017-12-31 14:23:14.0010  2018-01-01 02:29:57.5710   \n",
       "\n",
       "   start_station_id                                 start_station_name  \\\n",
       "0              74.0                              Laguna St at Hayes St   \n",
       "1             284.0  Yerba Buena Center for the Arts (Howard St at ...   \n",
       "2             245.0                             Downtown Berkeley BART   \n",
       "3              60.0                               8th St at Ringold St   \n",
       "4             239.0                      Bancroft Way at Telegraph Ave   \n",
       "\n",
       "   start_station_latitude  start_station_longitude  end_station_id  \\\n",
       "0               37.776435              -122.426244            43.0   \n",
       "1               37.784872              -122.400876            96.0   \n",
       "2               37.870348              -122.267764           245.0   \n",
       "3               37.774520              -122.409449             5.0   \n",
       "4               37.868813              -122.258764           247.0   \n",
       "\n",
       "                                    end_station_name  end_station_latitude  \\\n",
       "0  San Francisco Public Library (Grove St at Hyde...             37.778768   \n",
       "1                              Dolores St at 15th St             37.766210   \n",
       "2                             Downtown Berkeley BART             37.870348   \n",
       "3       Powell St BART Station (Market St at 5th St)             37.783899   \n",
       "4                          Fulton St at Bancroft Way             37.867789   \n",
       "\n",
       "   end_station_longitude  bike_id   user_type bike_share_for_all_trip  \n",
       "0            -122.415929       96    Customer                     NaN  \n",
       "1            -122.426614       88    Customer                     NaN  \n",
       "2            -122.267764     1094    Customer                     NaN  \n",
       "3            -122.408445     2831    Customer                     NaN  \n",
       "4            -122.265896     3167  Subscriber                     NaN  "
      ]
     },
     "execution_count": 6,
     "metadata": {},
     "output_type": "execute_result"
    }
   ],
   "source": [
    "# View the first few lines\n",
    "bikes.head()"
   ]
  },
  {
   "cell_type": "code",
   "execution_count": 7,
   "metadata": {},
   "outputs": [
    {
     "data": {
      "text/html": [
       "<div>\n",
       "<style scoped>\n",
       "    .dataframe tbody tr th:only-of-type {\n",
       "        vertical-align: middle;\n",
       "    }\n",
       "\n",
       "    .dataframe tbody tr th {\n",
       "        vertical-align: top;\n",
       "    }\n",
       "\n",
       "    .dataframe thead th {\n",
       "        text-align: right;\n",
       "    }\n",
       "</style>\n",
       "<table border=\"1\" class=\"dataframe\">\n",
       "  <thead>\n",
       "    <tr style=\"text-align: right;\">\n",
       "      <th></th>\n",
       "      <th>duration_sec</th>\n",
       "      <th>start_time</th>\n",
       "      <th>end_time</th>\n",
       "      <th>start_station_id</th>\n",
       "      <th>start_station_name</th>\n",
       "      <th>start_station_latitude</th>\n",
       "      <th>start_station_longitude</th>\n",
       "      <th>end_station_id</th>\n",
       "      <th>end_station_name</th>\n",
       "      <th>end_station_latitude</th>\n",
       "      <th>end_station_longitude</th>\n",
       "      <th>bike_id</th>\n",
       "      <th>user_type</th>\n",
       "      <th>bike_share_for_all_trip</th>\n",
       "    </tr>\n",
       "  </thead>\n",
       "  <tbody>\n",
       "    <tr>\n",
       "      <th>2383416</th>\n",
       "      <td>473</td>\n",
       "      <td>2018-12-01 00:11:54.8110</td>\n",
       "      <td>2018-12-01 00:19:48.5470</td>\n",
       "      <td>345.0</td>\n",
       "      <td>Hubbell St at 16th St</td>\n",
       "      <td>37.766474</td>\n",
       "      <td>-122.398295</td>\n",
       "      <td>81.0</td>\n",
       "      <td>Berry St at 4th St</td>\n",
       "      <td>37.775880</td>\n",
       "      <td>-122.393170</td>\n",
       "      <td>3035</td>\n",
       "      <td>Subscriber</td>\n",
       "      <td>No</td>\n",
       "    </tr>\n",
       "    <tr>\n",
       "      <th>2383417</th>\n",
       "      <td>841</td>\n",
       "      <td>2018-12-01 00:02:48.7260</td>\n",
       "      <td>2018-12-01 00:16:49.7660</td>\n",
       "      <td>10.0</td>\n",
       "      <td>Washington St at Kearny St</td>\n",
       "      <td>37.795393</td>\n",
       "      <td>-122.404770</td>\n",
       "      <td>58.0</td>\n",
       "      <td>Market St at 10th St</td>\n",
       "      <td>37.776619</td>\n",
       "      <td>-122.417385</td>\n",
       "      <td>2034</td>\n",
       "      <td>Subscriber</td>\n",
       "      <td>No</td>\n",
       "    </tr>\n",
       "    <tr>\n",
       "      <th>2383418</th>\n",
       "      <td>260</td>\n",
       "      <td>2018-12-01 00:05:27.6150</td>\n",
       "      <td>2018-12-01 00:09:47.9560</td>\n",
       "      <td>245.0</td>\n",
       "      <td>Downtown Berkeley BART</td>\n",
       "      <td>37.870139</td>\n",
       "      <td>-122.268422</td>\n",
       "      <td>255.0</td>\n",
       "      <td>Virginia St at Shattuck Ave</td>\n",
       "      <td>37.876573</td>\n",
       "      <td>-122.269528</td>\n",
       "      <td>2243</td>\n",
       "      <td>Subscriber</td>\n",
       "      <td>No</td>\n",
       "    </tr>\n",
       "    <tr>\n",
       "      <th>2383419</th>\n",
       "      <td>292</td>\n",
       "      <td>2018-12-01 00:03:06.5490</td>\n",
       "      <td>2018-12-01 00:07:59.0800</td>\n",
       "      <td>93.0</td>\n",
       "      <td>4th St at Mission Bay Blvd S</td>\n",
       "      <td>37.770407</td>\n",
       "      <td>-122.391198</td>\n",
       "      <td>126.0</td>\n",
       "      <td>Esprit Park</td>\n",
       "      <td>37.761634</td>\n",
       "      <td>-122.390648</td>\n",
       "      <td>545</td>\n",
       "      <td>Subscriber</td>\n",
       "      <td>No</td>\n",
       "    </tr>\n",
       "    <tr>\n",
       "      <th>2383420</th>\n",
       "      <td>150</td>\n",
       "      <td>2018-12-01 00:03:05.7420</td>\n",
       "      <td>2018-12-01 00:05:36.0260</td>\n",
       "      <td>107.0</td>\n",
       "      <td>17th St at Dolores St</td>\n",
       "      <td>37.763015</td>\n",
       "      <td>-122.426497</td>\n",
       "      <td>119.0</td>\n",
       "      <td>18th St at Noe St</td>\n",
       "      <td>37.761047</td>\n",
       "      <td>-122.432642</td>\n",
       "      <td>4319</td>\n",
       "      <td>Subscriber</td>\n",
       "      <td>No</td>\n",
       "    </tr>\n",
       "  </tbody>\n",
       "</table>\n",
       "</div>"
      ],
      "text/plain": [
       "         duration_sec                start_time                  end_time  \\\n",
       "2383416           473  2018-12-01 00:11:54.8110  2018-12-01 00:19:48.5470   \n",
       "2383417           841  2018-12-01 00:02:48.7260  2018-12-01 00:16:49.7660   \n",
       "2383418           260  2018-12-01 00:05:27.6150  2018-12-01 00:09:47.9560   \n",
       "2383419           292  2018-12-01 00:03:06.5490  2018-12-01 00:07:59.0800   \n",
       "2383420           150  2018-12-01 00:03:05.7420  2018-12-01 00:05:36.0260   \n",
       "\n",
       "         start_station_id            start_station_name  \\\n",
       "2383416             345.0         Hubbell St at 16th St   \n",
       "2383417              10.0    Washington St at Kearny St   \n",
       "2383418             245.0        Downtown Berkeley BART   \n",
       "2383419              93.0  4th St at Mission Bay Blvd S   \n",
       "2383420             107.0         17th St at Dolores St   \n",
       "\n",
       "         start_station_latitude  start_station_longitude  end_station_id  \\\n",
       "2383416               37.766474              -122.398295            81.0   \n",
       "2383417               37.795393              -122.404770            58.0   \n",
       "2383418               37.870139              -122.268422           255.0   \n",
       "2383419               37.770407              -122.391198           126.0   \n",
       "2383420               37.763015              -122.426497           119.0   \n",
       "\n",
       "                    end_station_name  end_station_latitude  \\\n",
       "2383416           Berry St at 4th St             37.775880   \n",
       "2383417         Market St at 10th St             37.776619   \n",
       "2383418  Virginia St at Shattuck Ave             37.876573   \n",
       "2383419                  Esprit Park             37.761634   \n",
       "2383420            18th St at Noe St             37.761047   \n",
       "\n",
       "         end_station_longitude  bike_id   user_type bike_share_for_all_trip  \n",
       "2383416            -122.393170     3035  Subscriber                      No  \n",
       "2383417            -122.417385     2034  Subscriber                      No  \n",
       "2383418            -122.269528     2243  Subscriber                      No  \n",
       "2383419            -122.390648      545  Subscriber                      No  \n",
       "2383420            -122.432642     4319  Subscriber                      No  "
      ]
     },
     "execution_count": 7,
     "metadata": {},
     "output_type": "execute_result"
    }
   ],
   "source": [
    "# View the last few lines\n",
    "bikes.tail()"
   ]
  },
  {
   "cell_type": "markdown",
   "metadata": {},
   "source": [
    "There are 14 features - the meaning of the first 13 features is described in the introductory section. There is one more feature called `bike_share_for_all_trip` present only for the data from 2018. I won't use it for further exploration.</br></br>\n",
    "The full data contain information about bike-shares over the period of 2 years - it might get pretty big. Let's check it out:"
   ]
  },
  {
   "cell_type": "code",
   "execution_count": 8,
   "metadata": {},
   "outputs": [
    {
     "data": {
      "text/plain": [
       "(2383421, 14)"
      ]
     },
     "execution_count": 8,
     "metadata": {},
     "output_type": "execute_result"
    }
   ],
   "source": [
    "# How big is the dataframe?\n",
    "bikes.shape"
   ]
  },
  {
   "cell_type": "markdown",
   "metadata": {},
   "source": [
    "The `bikes` dataframe contains over two million records. Are there any duplicates?"
   ]
  },
  {
   "cell_type": "code",
   "execution_count": 9,
   "metadata": {},
   "outputs": [
    {
     "data": {
      "text/plain": [
       "(0, 14)"
      ]
     },
     "execution_count": 9,
     "metadata": {},
     "output_type": "execute_result"
    }
   ],
   "source": [
    "# Check for duplicates\n",
    "bikes[bikes.duplicated()].shape"
   ]
  },
  {
   "cell_type": "markdown",
   "metadata": {},
   "source": [
    "There aren't duplicates - no need to fix anything.</br></br>\n",
    "Examine data types:"
   ]
  },
  {
   "cell_type": "code",
   "execution_count": 10,
   "metadata": {},
   "outputs": [
    {
     "name": "stdout",
     "output_type": "stream",
     "text": [
      "<class 'pandas.core.frame.DataFrame'>\n",
      "RangeIndex: 2383421 entries, 0 to 2383420\n",
      "Data columns (total 14 columns):\n",
      "duration_sec               2383421 non-null int64\n",
      "start_time                 2383421 non-null object\n",
      "end_time                   2383421 non-null object\n",
      "start_station_id           2371650 non-null float64\n",
      "start_station_name         2371650 non-null object\n",
      "start_station_latitude     2383421 non-null float64\n",
      "start_station_longitude    2383421 non-null float64\n",
      "end_station_id             2371650 non-null float64\n",
      "end_station_name           2371650 non-null object\n",
      "end_station_latitude       2383421 non-null float64\n",
      "end_station_longitude      2383421 non-null float64\n",
      "bike_id                    2383421 non-null int64\n",
      "user_type                  2383421 non-null object\n",
      "bike_share_for_all_trip    1863721 non-null object\n",
      "dtypes: float64(6), int64(2), object(6)\n",
      "memory usage: 200.0+ MB\n"
     ]
    }
   ],
   "source": [
    "# Print basic information - datatypes and null values\n",
    "bikes.info(null_counts = True)"
   ]
  },
  {
   "cell_type": "markdown",
   "metadata": {},
   "source": [
    "Columns `start_time` and `end_time` are objects. However, I'd like to have information about year, month, day, day of a week, and hour. These can be retrieved using Pandas Series' [Datetimelike properties](https://pandas.pydata.org/pandas-docs/stable/reference/series.html#datetimelike-properties). Therefore, I'll convert those two variables into datetime data type, and create the respective columns: "
   ]
  },
  {
   "cell_type": "code",
   "execution_count": 11,
   "metadata": {},
   "outputs": [],
   "source": [
    "# Convert start time and end time to datetime format\n",
    "bikes['start_time'] = pd.to_datetime(bikes['start_time'])\n",
    "bikes['end_time'] = pd.to_datetime(bikes['end_time'])"
   ]
  },
  {
   "cell_type": "code",
   "execution_count": 12,
   "metadata": {},
   "outputs": [],
   "source": [
    "# Create additional columns - year, month, day, day of week (Monday, Tuesday, etc.), hour\n",
    "bikes['start_year'] = bikes['start_time'].dt.year\n",
    "bikes['start_month'] = bikes['start_time'].dt.month\n",
    "bikes['start_day'] = bikes['start_time'].dt.day\n",
    "bikes['start_weekday'] = bikes['start_time'].dt.weekday\n",
    "bikes['start_hour'] = bikes['start_time'].dt.hour"
   ]
  },
  {
   "cell_type": "markdown",
   "metadata": {},
   "source": [
    "The `user_type` column would be better as a categorical variable for the visualization purposes:"
   ]
  },
  {
   "cell_type": "code",
   "execution_count": 13,
   "metadata": {},
   "outputs": [
    {
     "data": {
      "text/plain": [
       "Subscriber    1992784\n",
       "Customer       390637\n",
       "Name: user_type, dtype: int64"
      ]
     },
     "execution_count": 13,
     "metadata": {},
     "output_type": "execute_result"
    }
   ],
   "source": [
    "# View user type variable values and their occurrence\n",
    "bikes['user_type'].value_counts()"
   ]
  },
  {
   "cell_type": "code",
   "execution_count": 14,
   "metadata": {},
   "outputs": [],
   "source": [
    "# Convert user type to categorical variable\n",
    "level_order = ['Customer', 'Subscriber']\n",
    "ordered_cat = pd.api.types.CategoricalDtype(ordered = True, categories = level_order)\n",
    "bikes['user_type'] = bikes['user_type'].astype(ordered_cat)"
   ]
  },
  {
   "cell_type": "markdown",
   "metadata": {},
   "source": [
    "The dataframe is quite big - remove columns that will not be used in explorations: "
   ]
  },
  {
   "cell_type": "code",
   "execution_count": 15,
   "metadata": {},
   "outputs": [],
   "source": [
    "# Remove unnecessary columns\n",
    "bikes = bikes.drop(['start_time', 'end_time', 'start_station_latitude', 'start_station_longitude', \n",
    "                    'end_station_latitude', 'end_station_longitude', 'bike_share_for_all_trip'], axis = 1)"
   ]
  },
  {
   "cell_type": "markdown",
   "metadata": {},
   "source": [
    "Let's verify that the `bikes` dataframe contains desired columns, and variables are of the proper data types:"
   ]
  },
  {
   "cell_type": "code",
   "execution_count": 16,
   "metadata": {},
   "outputs": [
    {
     "data": {
      "text/plain": [
       "duration_sec             int64\n",
       "start_station_id       float64\n",
       "start_station_name      object\n",
       "end_station_id         float64\n",
       "end_station_name        object\n",
       "bike_id                  int64\n",
       "user_type             category\n",
       "start_year               int64\n",
       "start_month              int64\n",
       "start_day                int64\n",
       "start_weekday            int64\n",
       "start_hour               int64\n",
       "dtype: object"
      ]
     },
     "execution_count": 16,
     "metadata": {},
     "output_type": "execute_result"
    }
   ],
   "source": [
    "# Check the result - correct datatypes and removal of selected columns\n",
    "bikes.dtypes"
   ]
  },
  {
   "cell_type": "markdown",
   "metadata": {},
   "source": [
    "Finally, look at the summaries of numeric variables:"
   ]
  },
  {
   "cell_type": "code",
   "execution_count": 18,
   "metadata": {},
   "outputs": [
    {
     "data": {
      "text/html": [
       "<div>\n",
       "<style scoped>\n",
       "    .dataframe tbody tr th:only-of-type {\n",
       "        vertical-align: middle;\n",
       "    }\n",
       "\n",
       "    .dataframe tbody tr th {\n",
       "        vertical-align: top;\n",
       "    }\n",
       "\n",
       "    .dataframe thead th {\n",
       "        text-align: right;\n",
       "    }\n",
       "</style>\n",
       "<table border=\"1\" class=\"dataframe\">\n",
       "  <thead>\n",
       "    <tr style=\"text-align: right;\">\n",
       "      <th></th>\n",
       "      <th>duration_sec</th>\n",
       "      <th>start_year</th>\n",
       "      <th>start_month</th>\n",
       "      <th>start_day</th>\n",
       "      <th>start_weekday</th>\n",
       "      <th>start_hour</th>\n",
       "    </tr>\n",
       "  </thead>\n",
       "  <tbody>\n",
       "    <tr>\n",
       "      <th>count</th>\n",
       "      <td>2.383421e+06</td>\n",
       "      <td>2.383421e+06</td>\n",
       "      <td>2.383421e+06</td>\n",
       "      <td>2.383421e+06</td>\n",
       "      <td>2.383421e+06</td>\n",
       "      <td>2.383421e+06</td>\n",
       "    </tr>\n",
       "    <tr>\n",
       "      <th>mean</th>\n",
       "      <td>9.100063e+02</td>\n",
       "      <td>2.017782e+03</td>\n",
       "      <td>7.539704e+00</td>\n",
       "      <td>1.574647e+01</td>\n",
       "      <td>2.611557e+00</td>\n",
       "      <td>1.350274e+01</td>\n",
       "    </tr>\n",
       "    <tr>\n",
       "      <th>std</th>\n",
       "      <td>2.643865e+03</td>\n",
       "      <td>4.129202e-01</td>\n",
       "      <td>3.079040e+00</td>\n",
       "      <td>8.791526e+00</td>\n",
       "      <td>1.846110e+00</td>\n",
       "      <td>4.714829e+00</td>\n",
       "    </tr>\n",
       "    <tr>\n",
       "      <th>min</th>\n",
       "      <td>6.100000e+01</td>\n",
       "      <td>2.017000e+03</td>\n",
       "      <td>1.000000e+00</td>\n",
       "      <td>1.000000e+00</td>\n",
       "      <td>0.000000e+00</td>\n",
       "      <td>0.000000e+00</td>\n",
       "    </tr>\n",
       "    <tr>\n",
       "      <th>25%</th>\n",
       "      <td>3.570000e+02</td>\n",
       "      <td>2.018000e+03</td>\n",
       "      <td>5.000000e+00</td>\n",
       "      <td>8.000000e+00</td>\n",
       "      <td>1.000000e+00</td>\n",
       "      <td>9.000000e+00</td>\n",
       "    </tr>\n",
       "    <tr>\n",
       "      <th>50%</th>\n",
       "      <td>5.640000e+02</td>\n",
       "      <td>2.018000e+03</td>\n",
       "      <td>8.000000e+00</td>\n",
       "      <td>1.600000e+01</td>\n",
       "      <td>3.000000e+00</td>\n",
       "      <td>1.400000e+01</td>\n",
       "    </tr>\n",
       "    <tr>\n",
       "      <th>75%</th>\n",
       "      <td>8.850000e+02</td>\n",
       "      <td>2.018000e+03</td>\n",
       "      <td>1.000000e+01</td>\n",
       "      <td>2.300000e+01</td>\n",
       "      <td>4.000000e+00</td>\n",
       "      <td>1.700000e+01</td>\n",
       "    </tr>\n",
       "    <tr>\n",
       "      <th>max</th>\n",
       "      <td>8.636900e+04</td>\n",
       "      <td>2.018000e+03</td>\n",
       "      <td>1.200000e+01</td>\n",
       "      <td>3.100000e+01</td>\n",
       "      <td>6.000000e+00</td>\n",
       "      <td>2.300000e+01</td>\n",
       "    </tr>\n",
       "  </tbody>\n",
       "</table>\n",
       "</div>"
      ],
      "text/plain": [
       "       duration_sec    start_year   start_month     start_day  start_weekday  \\\n",
       "count  2.383421e+06  2.383421e+06  2.383421e+06  2.383421e+06   2.383421e+06   \n",
       "mean   9.100063e+02  2.017782e+03  7.539704e+00  1.574647e+01   2.611557e+00   \n",
       "std    2.643865e+03  4.129202e-01  3.079040e+00  8.791526e+00   1.846110e+00   \n",
       "min    6.100000e+01  2.017000e+03  1.000000e+00  1.000000e+00   0.000000e+00   \n",
       "25%    3.570000e+02  2.018000e+03  5.000000e+00  8.000000e+00   1.000000e+00   \n",
       "50%    5.640000e+02  2.018000e+03  8.000000e+00  1.600000e+01   3.000000e+00   \n",
       "75%    8.850000e+02  2.018000e+03  1.000000e+01  2.300000e+01   4.000000e+00   \n",
       "max    8.636900e+04  2.018000e+03  1.200000e+01  3.100000e+01   6.000000e+00   \n",
       "\n",
       "         start_hour  \n",
       "count  2.383421e+06  \n",
       "mean   1.350274e+01  \n",
       "std    4.714829e+00  \n",
       "min    0.000000e+00  \n",
       "25%    9.000000e+00  \n",
       "50%    1.400000e+01  \n",
       "75%    1.700000e+01  \n",
       "max    2.300000e+01  "
      ]
     },
     "execution_count": 18,
     "metadata": {},
     "output_type": "execute_result"
    }
   ],
   "source": [
    "# View basic summary information for numeric variables\n",
    "bikes[['duration_sec', 'start_year', 'start_month', 'start_day', 'start_weekday', 'start_hour']].describe()"
   ]
  },
  {
   "cell_type": "code",
   "execution_count": null,
   "metadata": {},
   "outputs": [],
   "source": []
  }
 ],
 "metadata": {
  "kernelspec": {
   "display_name": "Python 3",
   "language": "python",
   "name": "python3"
  },
  "language_info": {
   "codemirror_mode": {
    "name": "ipython",
    "version": 3
   },
   "file_extension": ".py",
   "mimetype": "text/x-python",
   "name": "python",
   "nbconvert_exporter": "python",
   "pygments_lexer": "ipython3",
   "version": "3.7.4"
  }
 },
 "nbformat": 4,
 "nbformat_minor": 4
}
