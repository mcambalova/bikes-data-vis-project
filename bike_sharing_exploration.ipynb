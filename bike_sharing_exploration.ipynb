{
 "cells": [
  {
   "cell_type": "markdown",
   "metadata": {},
   "source": [
    "# Bike Sharing: Data Visualization Project\n",
    "## by Maria Cambalova\n",
    "\n",
    "## Introduction\n",
    "In this project, the [data on rides made in a bike-sharing system](https://www.lyft.com/bikes/bay-wheels/system-data) is explored using various visualizations (univariate, bivariate and multivariate). The available data span over four years (2017-2020), but I'll use only data from years 2017 and 2018. One row or record is one bike ride. The data is anonymized.<br><br>\n",
    "The data contains following features:\n",
    "- __trip duration__ (`duration_sec`): total duration of one ride in seconds\n",
    "- __start date and time__ (`start_time`): time and date when the ride started\n",
    "- __end date and time__ (`end_time`): time and date when the ride ended\n",
    "- __start station ID__ (`start_station_id`): start station identifier\n",
    "- __start station name__ (`start_station_name`): name of the start station\n",
    "- __start station latitude__ (`start_station_latitude`): the latitude coordinate of the start station\n",
    "- __start station longitude__ (`start_station_longitude`): the longitude coordinate of the start station\n",
    "- __end station ID__ (`end_station_id`): end station identifier\n",
    "- __end station name__ (`end_station_name`): name of the start station\n",
    "- __end station latitude__ (`end_station_latitude`): the latitude coordinate of the end station\n",
    "- __end station longitude__ (`end_station_longitude`): the longitude coordinate of the end station\n",
    "- __bike ID__ (`bike_id`): the bike identifier\n",
    "- __user type__ (`user_type`): whether the user is a regular one, i.e. member ('Subscriber') or a casual one ('Customer')\n",
    "- __Bike Share for All__ (`bike_share_for_all_trip`): whether the ride was within the [Bike Share for All](https://www.lyft.com/bikes/bay-wheels/bike-share-for-all) program, not available for 2017 rides"
   ]
  },
  {
   "cell_type": "markdown",
   "metadata": {},
   "source": [
    "## Preliminary Wrangling"
   ]
  },
  {
   "cell_type": "markdown",
   "metadata": {},
   "source": [
    "I'll divide this section into two parts: \n",
    "- [Data Gathering](#data_gathering) - download the data and load it into a dataframe\n",
    "- [Data Wrangling](#data_wrangling) - quickly explore the data, clean if necessary and prepare it for further exploratory visualizations    \n",
    "\n",
    "But first, import all packages used in data wrangling and subsequent visualizations:"
   ]
  },
  {
   "cell_type": "code",
   "execution_count": 1,
   "metadata": {},
   "outputs": [],
   "source": [
    "# NumPy and Pandas\n",
    "import numpy as np\n",
    "import pandas as pd\n",
    "\n",
    "# Packages to gather and manipulate with files\n",
    "import glob\n",
    "import os\n",
    "import requests\n",
    "import zipfile\n",
    "\n",
    "# Visualization packages\n",
    "import matplotlib.pyplot as plt\n",
    "import seaborn as sb\n",
    "\n",
    "# Set matplotlib backend\n",
    "%matplotlib inline"
   ]
  },
  {
   "cell_type": "markdown",
   "metadata": {},
   "source": [
    "<a name='data_gathering'></a>\n",
    "### Data Gathering"
   ]
  },
  {
   "cell_type": "markdown",
   "metadata": {},
   "source": [
    "I'd like to analyze bike-sharing data from the years 2017 and 2018. While there is only one file for 2017, the 2018 data is stored in separate month files (there are 12 files containing bike-sharing data for the year 2018). Therefore, I'll download the data programmatically: \n",
    "1. construct the file names using year, month and string '-fordgobike-tripdata.csv.zip' common for all the files\n",
    "2. construct the full files' urls\n",
    "3. download and store the files in the folder called 'data'  \n",
    "\n",
    "When creating the file names using months, the numbers have to be padded with a leading zero. This can be accomplished using numpy's [zfill](https://numpy.org/doc/stable/reference/generated/numpy.char.zfill.html) method, as shown here: [Adding leading zeros to strings in NumPy array](https://stackoverflow.com/questions/55376333/adding-leading-zeros-to-strings-in-numpy-array)."
   ]
  },
  {
   "cell_type": "code",
   "execution_count": 2,
   "metadata": {},
   "outputs": [],
   "source": [
    "# Create folder data to store csv files if the folder does not exist\n",
    "folder_name = 'data'\n",
    "if not os.path.exists(folder_name):\n",
    "    os.makedirs(folder_name)"
   ]
  },
  {
   "cell_type": "code",
   "execution_count": 3,
   "metadata": {},
   "outputs": [
    {
     "name": "stdout",
     "output_type": "stream",
     "text": [
      "Downloading 2017-fordgobike-tripdata.csv.zip\n",
      "Downloading 201801-fordgobike-tripdata.csv.zip\n",
      "Downloading 201802-fordgobike-tripdata.csv.zip\n",
      "Downloading 201803-fordgobike-tripdata.csv.zip\n",
      "Downloading 201804-fordgobike-tripdata.csv.zip\n",
      "Downloading 201805-fordgobike-tripdata.csv.zip\n",
      "Downloading 201806-fordgobike-tripdata.csv.zip\n",
      "Downloading 201807-fordgobike-tripdata.csv.zip\n",
      "Downloading 201808-fordgobike-tripdata.csv.zip\n",
      "Downloading 201809-fordgobike-tripdata.csv.zip\n",
      "Downloading 201810-fordgobike-tripdata.csv.zip\n",
      "Downloading 201811-fordgobike-tripdata.csv.zip\n",
      "Downloading 201812-fordgobike-tripdata.csv.zip\n"
     ]
    }
   ],
   "source": [
    "# Create lists of years and months\n",
    "years = ['2017', '2018']\n",
    "months = months = np.char.zfill(np.arange(1, 13).astype(str), 2)\n",
    "\n",
    "# Testing\n",
    "# years = ['2017', '2018']\n",
    "# months = months = np.char.zfill(np.arange(1, 2).astype(str), 2)\n",
    "\n",
    "# Every file of interest ends with the following string - keep it in file_sfx\n",
    "file_sfx = '-fordgobike-tripdata.csv.zip'\n",
    "\n",
    "# The url address (without the file name)\n",
    "url_pfx = 'https://s3.amazonaws.com/baywheels-data/'\n",
    "\n",
    "# Loop over files - start with the year\n",
    "for year in years:\n",
    "    # There is only one file collecting all data in case of the year 2017\n",
    "    if year == '2017':\n",
    "        print('Downloading {}'.format(year + file_sfx))\n",
    "        # Construct the full file name using year and file suffix\n",
    "        file = year + file_sfx\n",
    "        # Download the file and store it\n",
    "        response = requests.get(url_pfx + file)\n",
    "        with open(os.path.join(folder_name, file), mode = 'wb') as file:\n",
    "            file.write(response.content)\n",
    "    \n",
    "    # Data for the year 2018 is in separate files according to months\n",
    "    else:\n",
    "        for month in months:\n",
    "            print('Downloading {}'.format(year + month + file_sfx))\n",
    "            # Construct the full file name using year, month and file suffix\n",
    "            file = year + month + file_sfx\n",
    "            # Download the file and store it\n",
    "            response = requests.get(url_pfx + file)\n",
    "            with open(os.path.join(folder_name, file), mode = 'wb') as file:\n",
    "                file.write(response.content)"
   ]
  },
  {
   "cell_type": "markdown",
   "metadata": {},
   "source": [
    "Next, unzip the compressed files after the data has been successfully downloaded using the [zipfile](https://docs.python.org/3/library/zipfile.html) module; see also [Unzipping files in Python](https://stackoverflow.com/questions/3451111/unzipping-files-in-python). Also, use the [glob](https://docs.python.org/3/library/glob.html) library to retrieve the names of zip files, as learnt in the Data Wrangling part of Data Analyst Nanodegree Program at Udacity."
   ]
  },
  {
   "cell_type": "code",
   "execution_count": 4,
   "metadata": {},
   "outputs": [],
   "source": [
    "# Loop over all downloaded files and extract csv files\n",
    "for zip_file in glob.glob(folder_name + '/*.zip'):\n",
    "    with zipfile.ZipFile(zip_file, mode = 'r') as file:\n",
    "        file.extractall(folder_name)"
   ]
  },
  {
   "cell_type": "markdown",
   "metadata": {},
   "source": [
    "Finally, load the data into a Pandas dataframe `bikes`:"
   ]
  },
  {
   "cell_type": "code",
   "execution_count": 5,
   "metadata": {},
   "outputs": [],
   "source": [
    "# Create empty dataframe to store the data\n",
    "bikes = pd.DataFrame()\n",
    "\n",
    "# Loop over csv files and add them to the target dataframe one by one\n",
    "for csv_file in glob.glob(folder_name + '/*.csv'):\n",
    "    bikes_tmp = pd.read_csv(csv_file)\n",
    "    bikes = pd.concat([bikes, bikes_tmp], ignore_index = True, axis = 0, sort = False)"
   ]
  },
  {
   "cell_type": "markdown",
   "metadata": {},
   "source": [
    "<a name='data_wrangling'></a>\n",
    "### Data Wrangling\n",
    "Let's examine the bike-sharing data and decide which features would be interesting to look at:"
   ]
  },
  {
   "cell_type": "code",
   "execution_count": 6,
   "metadata": {},
   "outputs": [
    {
     "data": {
      "text/html": [
       "<div>\n",
       "<style scoped>\n",
       "    .dataframe tbody tr th:only-of-type {\n",
       "        vertical-align: middle;\n",
       "    }\n",
       "\n",
       "    .dataframe tbody tr th {\n",
       "        vertical-align: top;\n",
       "    }\n",
       "\n",
       "    .dataframe thead th {\n",
       "        text-align: right;\n",
       "    }\n",
       "</style>\n",
       "<table border=\"1\" class=\"dataframe\">\n",
       "  <thead>\n",
       "    <tr style=\"text-align: right;\">\n",
       "      <th></th>\n",
       "      <th>duration_sec</th>\n",
       "      <th>start_time</th>\n",
       "      <th>end_time</th>\n",
       "      <th>start_station_id</th>\n",
       "      <th>start_station_name</th>\n",
       "      <th>start_station_latitude</th>\n",
       "      <th>start_station_longitude</th>\n",
       "      <th>end_station_id</th>\n",
       "      <th>end_station_name</th>\n",
       "      <th>end_station_latitude</th>\n",
       "      <th>end_station_longitude</th>\n",
       "      <th>bike_id</th>\n",
       "      <th>user_type</th>\n",
       "      <th>bike_share_for_all_trip</th>\n",
       "    </tr>\n",
       "  </thead>\n",
       "  <tbody>\n",
       "    <tr>\n",
       "      <th>0</th>\n",
       "      <td>80110</td>\n",
       "      <td>2017-12-31 16:57:39.6540</td>\n",
       "      <td>2018-01-01 15:12:50.2450</td>\n",
       "      <td>74.0</td>\n",
       "      <td>Laguna St at Hayes St</td>\n",
       "      <td>37.776435</td>\n",
       "      <td>-122.426244</td>\n",
       "      <td>43.0</td>\n",
       "      <td>San Francisco Public Library (Grove St at Hyde...</td>\n",
       "      <td>37.778768</td>\n",
       "      <td>-122.415929</td>\n",
       "      <td>96</td>\n",
       "      <td>Customer</td>\n",
       "      <td>NaN</td>\n",
       "    </tr>\n",
       "    <tr>\n",
       "      <th>1</th>\n",
       "      <td>78800</td>\n",
       "      <td>2017-12-31 15:56:34.8420</td>\n",
       "      <td>2018-01-01 13:49:55.6170</td>\n",
       "      <td>284.0</td>\n",
       "      <td>Yerba Buena Center for the Arts (Howard St at ...</td>\n",
       "      <td>37.784872</td>\n",
       "      <td>-122.400876</td>\n",
       "      <td>96.0</td>\n",
       "      <td>Dolores St at 15th St</td>\n",
       "      <td>37.766210</td>\n",
       "      <td>-122.426614</td>\n",
       "      <td>88</td>\n",
       "      <td>Customer</td>\n",
       "      <td>NaN</td>\n",
       "    </tr>\n",
       "    <tr>\n",
       "      <th>2</th>\n",
       "      <td>45768</td>\n",
       "      <td>2017-12-31 22:45:48.4110</td>\n",
       "      <td>2018-01-01 11:28:36.8830</td>\n",
       "      <td>245.0</td>\n",
       "      <td>Downtown Berkeley BART</td>\n",
       "      <td>37.870348</td>\n",
       "      <td>-122.267764</td>\n",
       "      <td>245.0</td>\n",
       "      <td>Downtown Berkeley BART</td>\n",
       "      <td>37.870348</td>\n",
       "      <td>-122.267764</td>\n",
       "      <td>1094</td>\n",
       "      <td>Customer</td>\n",
       "      <td>NaN</td>\n",
       "    </tr>\n",
       "    <tr>\n",
       "      <th>3</th>\n",
       "      <td>62172</td>\n",
       "      <td>2017-12-31 17:31:10.6360</td>\n",
       "      <td>2018-01-01 10:47:23.5310</td>\n",
       "      <td>60.0</td>\n",
       "      <td>8th St at Ringold St</td>\n",
       "      <td>37.774520</td>\n",
       "      <td>-122.409449</td>\n",
       "      <td>5.0</td>\n",
       "      <td>Powell St BART Station (Market St at 5th St)</td>\n",
       "      <td>37.783899</td>\n",
       "      <td>-122.408445</td>\n",
       "      <td>2831</td>\n",
       "      <td>Customer</td>\n",
       "      <td>NaN</td>\n",
       "    </tr>\n",
       "    <tr>\n",
       "      <th>4</th>\n",
       "      <td>43603</td>\n",
       "      <td>2017-12-31 14:23:14.0010</td>\n",
       "      <td>2018-01-01 02:29:57.5710</td>\n",
       "      <td>239.0</td>\n",
       "      <td>Bancroft Way at Telegraph Ave</td>\n",
       "      <td>37.868813</td>\n",
       "      <td>-122.258764</td>\n",
       "      <td>247.0</td>\n",
       "      <td>Fulton St at Bancroft Way</td>\n",
       "      <td>37.867789</td>\n",
       "      <td>-122.265896</td>\n",
       "      <td>3167</td>\n",
       "      <td>Subscriber</td>\n",
       "      <td>NaN</td>\n",
       "    </tr>\n",
       "  </tbody>\n",
       "</table>\n",
       "</div>"
      ],
      "text/plain": [
       "   duration_sec                start_time                  end_time  \\\n",
       "0         80110  2017-12-31 16:57:39.6540  2018-01-01 15:12:50.2450   \n",
       "1         78800  2017-12-31 15:56:34.8420  2018-01-01 13:49:55.6170   \n",
       "2         45768  2017-12-31 22:45:48.4110  2018-01-01 11:28:36.8830   \n",
       "3         62172  2017-12-31 17:31:10.6360  2018-01-01 10:47:23.5310   \n",
       "4         43603  2017-12-31 14:23:14.0010  2018-01-01 02:29:57.5710   \n",
       "\n",
       "   start_station_id                                 start_station_name  \\\n",
       "0              74.0                              Laguna St at Hayes St   \n",
       "1             284.0  Yerba Buena Center for the Arts (Howard St at ...   \n",
       "2             245.0                             Downtown Berkeley BART   \n",
       "3              60.0                               8th St at Ringold St   \n",
       "4             239.0                      Bancroft Way at Telegraph Ave   \n",
       "\n",
       "   start_station_latitude  start_station_longitude  end_station_id  \\\n",
       "0               37.776435              -122.426244            43.0   \n",
       "1               37.784872              -122.400876            96.0   \n",
       "2               37.870348              -122.267764           245.0   \n",
       "3               37.774520              -122.409449             5.0   \n",
       "4               37.868813              -122.258764           247.0   \n",
       "\n",
       "                                    end_station_name  end_station_latitude  \\\n",
       "0  San Francisco Public Library (Grove St at Hyde...             37.778768   \n",
       "1                              Dolores St at 15th St             37.766210   \n",
       "2                             Downtown Berkeley BART             37.870348   \n",
       "3       Powell St BART Station (Market St at 5th St)             37.783899   \n",
       "4                          Fulton St at Bancroft Way             37.867789   \n",
       "\n",
       "   end_station_longitude  bike_id   user_type bike_share_for_all_trip  \n",
       "0            -122.415929       96    Customer                     NaN  \n",
       "1            -122.426614       88    Customer                     NaN  \n",
       "2            -122.267764     1094    Customer                     NaN  \n",
       "3            -122.408445     2831    Customer                     NaN  \n",
       "4            -122.265896     3167  Subscriber                     NaN  "
      ]
     },
     "execution_count": 6,
     "metadata": {},
     "output_type": "execute_result"
    }
   ],
   "source": [
    "# View the first few lines\n",
    "bikes.head()"
   ]
  },
  {
   "cell_type": "code",
   "execution_count": 7,
   "metadata": {},
   "outputs": [
    {
     "data": {
      "text/html": [
       "<div>\n",
       "<style scoped>\n",
       "    .dataframe tbody tr th:only-of-type {\n",
       "        vertical-align: middle;\n",
       "    }\n",
       "\n",
       "    .dataframe tbody tr th {\n",
       "        vertical-align: top;\n",
       "    }\n",
       "\n",
       "    .dataframe thead th {\n",
       "        text-align: right;\n",
       "    }\n",
       "</style>\n",
       "<table border=\"1\" class=\"dataframe\">\n",
       "  <thead>\n",
       "    <tr style=\"text-align: right;\">\n",
       "      <th></th>\n",
       "      <th>duration_sec</th>\n",
       "      <th>start_time</th>\n",
       "      <th>end_time</th>\n",
       "      <th>start_station_id</th>\n",
       "      <th>start_station_name</th>\n",
       "      <th>start_station_latitude</th>\n",
       "      <th>start_station_longitude</th>\n",
       "      <th>end_station_id</th>\n",
       "      <th>end_station_name</th>\n",
       "      <th>end_station_latitude</th>\n",
       "      <th>end_station_longitude</th>\n",
       "      <th>bike_id</th>\n",
       "      <th>user_type</th>\n",
       "      <th>bike_share_for_all_trip</th>\n",
       "    </tr>\n",
       "  </thead>\n",
       "  <tbody>\n",
       "    <tr>\n",
       "      <th>2383416</th>\n",
       "      <td>473</td>\n",
       "      <td>2018-12-01 00:11:54.8110</td>\n",
       "      <td>2018-12-01 00:19:48.5470</td>\n",
       "      <td>345.0</td>\n",
       "      <td>Hubbell St at 16th St</td>\n",
       "      <td>37.766474</td>\n",
       "      <td>-122.398295</td>\n",
       "      <td>81.0</td>\n",
       "      <td>Berry St at 4th St</td>\n",
       "      <td>37.775880</td>\n",
       "      <td>-122.393170</td>\n",
       "      <td>3035</td>\n",
       "      <td>Subscriber</td>\n",
       "      <td>No</td>\n",
       "    </tr>\n",
       "    <tr>\n",
       "      <th>2383417</th>\n",
       "      <td>841</td>\n",
       "      <td>2018-12-01 00:02:48.7260</td>\n",
       "      <td>2018-12-01 00:16:49.7660</td>\n",
       "      <td>10.0</td>\n",
       "      <td>Washington St at Kearny St</td>\n",
       "      <td>37.795393</td>\n",
       "      <td>-122.404770</td>\n",
       "      <td>58.0</td>\n",
       "      <td>Market St at 10th St</td>\n",
       "      <td>37.776619</td>\n",
       "      <td>-122.417385</td>\n",
       "      <td>2034</td>\n",
       "      <td>Subscriber</td>\n",
       "      <td>No</td>\n",
       "    </tr>\n",
       "    <tr>\n",
       "      <th>2383418</th>\n",
       "      <td>260</td>\n",
       "      <td>2018-12-01 00:05:27.6150</td>\n",
       "      <td>2018-12-01 00:09:47.9560</td>\n",
       "      <td>245.0</td>\n",
       "      <td>Downtown Berkeley BART</td>\n",
       "      <td>37.870139</td>\n",
       "      <td>-122.268422</td>\n",
       "      <td>255.0</td>\n",
       "      <td>Virginia St at Shattuck Ave</td>\n",
       "      <td>37.876573</td>\n",
       "      <td>-122.269528</td>\n",
       "      <td>2243</td>\n",
       "      <td>Subscriber</td>\n",
       "      <td>No</td>\n",
       "    </tr>\n",
       "    <tr>\n",
       "      <th>2383419</th>\n",
       "      <td>292</td>\n",
       "      <td>2018-12-01 00:03:06.5490</td>\n",
       "      <td>2018-12-01 00:07:59.0800</td>\n",
       "      <td>93.0</td>\n",
       "      <td>4th St at Mission Bay Blvd S</td>\n",
       "      <td>37.770407</td>\n",
       "      <td>-122.391198</td>\n",
       "      <td>126.0</td>\n",
       "      <td>Esprit Park</td>\n",
       "      <td>37.761634</td>\n",
       "      <td>-122.390648</td>\n",
       "      <td>545</td>\n",
       "      <td>Subscriber</td>\n",
       "      <td>No</td>\n",
       "    </tr>\n",
       "    <tr>\n",
       "      <th>2383420</th>\n",
       "      <td>150</td>\n",
       "      <td>2018-12-01 00:03:05.7420</td>\n",
       "      <td>2018-12-01 00:05:36.0260</td>\n",
       "      <td>107.0</td>\n",
       "      <td>17th St at Dolores St</td>\n",
       "      <td>37.763015</td>\n",
       "      <td>-122.426497</td>\n",
       "      <td>119.0</td>\n",
       "      <td>18th St at Noe St</td>\n",
       "      <td>37.761047</td>\n",
       "      <td>-122.432642</td>\n",
       "      <td>4319</td>\n",
       "      <td>Subscriber</td>\n",
       "      <td>No</td>\n",
       "    </tr>\n",
       "  </tbody>\n",
       "</table>\n",
       "</div>"
      ],
      "text/plain": [
       "         duration_sec                start_time                  end_time  \\\n",
       "2383416           473  2018-12-01 00:11:54.8110  2018-12-01 00:19:48.5470   \n",
       "2383417           841  2018-12-01 00:02:48.7260  2018-12-01 00:16:49.7660   \n",
       "2383418           260  2018-12-01 00:05:27.6150  2018-12-01 00:09:47.9560   \n",
       "2383419           292  2018-12-01 00:03:06.5490  2018-12-01 00:07:59.0800   \n",
       "2383420           150  2018-12-01 00:03:05.7420  2018-12-01 00:05:36.0260   \n",
       "\n",
       "         start_station_id            start_station_name  \\\n",
       "2383416             345.0         Hubbell St at 16th St   \n",
       "2383417              10.0    Washington St at Kearny St   \n",
       "2383418             245.0        Downtown Berkeley BART   \n",
       "2383419              93.0  4th St at Mission Bay Blvd S   \n",
       "2383420             107.0         17th St at Dolores St   \n",
       "\n",
       "         start_station_latitude  start_station_longitude  end_station_id  \\\n",
       "2383416               37.766474              -122.398295            81.0   \n",
       "2383417               37.795393              -122.404770            58.0   \n",
       "2383418               37.870139              -122.268422           255.0   \n",
       "2383419               37.770407              -122.391198           126.0   \n",
       "2383420               37.763015              -122.426497           119.0   \n",
       "\n",
       "                    end_station_name  end_station_latitude  \\\n",
       "2383416           Berry St at 4th St             37.775880   \n",
       "2383417         Market St at 10th St             37.776619   \n",
       "2383418  Virginia St at Shattuck Ave             37.876573   \n",
       "2383419                  Esprit Park             37.761634   \n",
       "2383420            18th St at Noe St             37.761047   \n",
       "\n",
       "         end_station_longitude  bike_id   user_type bike_share_for_all_trip  \n",
       "2383416            -122.393170     3035  Subscriber                      No  \n",
       "2383417            -122.417385     2034  Subscriber                      No  \n",
       "2383418            -122.269528     2243  Subscriber                      No  \n",
       "2383419            -122.390648      545  Subscriber                      No  \n",
       "2383420            -122.432642     4319  Subscriber                      No  "
      ]
     },
     "execution_count": 7,
     "metadata": {},
     "output_type": "execute_result"
    }
   ],
   "source": [
    "# View the last few lines\n",
    "bikes.tail()"
   ]
  },
  {
   "cell_type": "markdown",
   "metadata": {},
   "source": [
    "There are 14 features - the meaning of each one is described in the introductory section. The full data contain information about bike-shares over the period of 2 years - it might get pretty big. Let's check it out:"
   ]
  },
  {
   "cell_type": "code",
   "execution_count": 8,
   "metadata": {},
   "outputs": [
    {
     "data": {
      "text/plain": [
       "(2383421, 14)"
      ]
     },
     "execution_count": 8,
     "metadata": {},
     "output_type": "execute_result"
    }
   ],
   "source": [
    "# How big is the dataframe?\n",
    "bikes.shape"
   ]
  },
  {
   "cell_type": "markdown",
   "metadata": {},
   "source": [
    "The `bikes` dataframe contains over two million records. Are there any duplicates?"
   ]
  },
  {
   "cell_type": "code",
   "execution_count": 9,
   "metadata": {},
   "outputs": [
    {
     "data": {
      "text/plain": [
       "(0, 14)"
      ]
     },
     "execution_count": 9,
     "metadata": {},
     "output_type": "execute_result"
    }
   ],
   "source": [
    "# Check for duplicates\n",
    "bikes[bikes.duplicated()].shape"
   ]
  },
  {
   "cell_type": "markdown",
   "metadata": {},
   "source": [
    "There aren't duplicates - no need to fix anything with respect to this.</br></br>\n",
    "Examine data types:"
   ]
  },
  {
   "cell_type": "code",
   "execution_count": 10,
   "metadata": {},
   "outputs": [
    {
     "name": "stdout",
     "output_type": "stream",
     "text": [
      "<class 'pandas.core.frame.DataFrame'>\n",
      "RangeIndex: 2383421 entries, 0 to 2383420\n",
      "Data columns (total 14 columns):\n",
      "duration_sec               2383421 non-null int64\n",
      "start_time                 2383421 non-null object\n",
      "end_time                   2383421 non-null object\n",
      "start_station_id           2371650 non-null float64\n",
      "start_station_name         2371650 non-null object\n",
      "start_station_latitude     2383421 non-null float64\n",
      "start_station_longitude    2383421 non-null float64\n",
      "end_station_id             2371650 non-null float64\n",
      "end_station_name           2371650 non-null object\n",
      "end_station_latitude       2383421 non-null float64\n",
      "end_station_longitude      2383421 non-null float64\n",
      "bike_id                    2383421 non-null int64\n",
      "user_type                  2383421 non-null object\n",
      "bike_share_for_all_trip    1863721 non-null object\n",
      "dtypes: float64(6), int64(2), object(6)\n",
      "memory usage: 200.0+ MB\n"
     ]
    }
   ],
   "source": [
    "# Print basic information - datatypes and null values\n",
    "bikes.info(null_counts = True)"
   ]
  },
  {
   "cell_type": "markdown",
   "metadata": {},
   "source": [
    "Columns `start_time` and `end_time` are objects. However, I'd like to have information about year, month, day, day of a week, and hour of a day. These can be retrieved using Pandas Series' [Datetimelike properties](https://pandas.pydata.org/pandas-docs/stable/reference/series.html#datetimelike-properties). Therefore, I'll convert those two variables into datetime data type, create the respective columns afterwards and convert to categorical variables when appropriate.  "
   ]
  },
  {
   "cell_type": "code",
   "execution_count": 11,
   "metadata": {},
   "outputs": [],
   "source": [
    "# Convert start time and end time to datetime format\n",
    "bikes['start_time'] = pd.to_datetime(bikes['start_time'])\n",
    "bikes['end_time'] = pd.to_datetime(bikes['end_time'])"
   ]
  },
  {
   "cell_type": "code",
   "execution_count": 12,
   "metadata": {},
   "outputs": [],
   "source": [
    "# Create additional columns - year, month, day, day of week (Monday, Tuesday, etc.), hour\n",
    "bikes['year'] = bikes['start_time'].dt.year\n",
    "bikes['month'] = bikes['start_time'].dt.month_name()\n",
    "bikes['day'] = bikes['start_time'].dt.day\n",
    "bikes['weekday'] = bikes['start_time'].dt.day_name()\n",
    "bikes['hour'] = bikes['start_time'].dt.hour"
   ]
  },
  {
   "cell_type": "code",
   "execution_count": 13,
   "metadata": {},
   "outputs": [],
   "source": [
    "# Convert month to categorical variable\n",
    "level_order = ['January', 'February', 'March', 'April', 'May', 'June', 'July', 'August', 'September', 'October', 'November', 'December']\n",
    "ordered_cat = pd.api.types.CategoricalDtype(ordered = True, categories = level_order)\n",
    "bikes['month'] = bikes['month'].astype(ordered_cat)"
   ]
  },
  {
   "cell_type": "code",
   "execution_count": 14,
   "metadata": {},
   "outputs": [],
   "source": [
    "# Convert weekday to categorical variable\n",
    "level_order = ['Monday', 'Tuesday', 'Wednesday', 'Thursday', 'Friday', 'Saturday', 'Sunday']\n",
    "ordered_cat = pd.api.types.CategoricalDtype(ordered = True, categories = level_order)\n",
    "bikes['weekday'] = bikes['weekday'].astype(ordered_cat)"
   ]
  },
  {
   "cell_type": "markdown",
   "metadata": {},
   "source": [
    "The `user_type` column would be better as a categorical variable for the visualization purposes:"
   ]
  },
  {
   "cell_type": "code",
   "execution_count": 15,
   "metadata": {},
   "outputs": [
    {
     "data": {
      "text/plain": [
       "Subscriber    1992784\n",
       "Customer       390637\n",
       "Name: user_type, dtype: int64"
      ]
     },
     "execution_count": 15,
     "metadata": {},
     "output_type": "execute_result"
    }
   ],
   "source": [
    "# View user type variable values and their occurrence\n",
    "bikes['user_type'].value_counts()"
   ]
  },
  {
   "cell_type": "code",
   "execution_count": 16,
   "metadata": {},
   "outputs": [],
   "source": [
    "# Convert user type to categorical variable\n",
    "level_order = ['Customer', 'Subscriber']\n",
    "ordered_cat = pd.api.types.CategoricalDtype(ordered = True, categories = level_order)\n",
    "bikes['user_type'] = bikes['user_type'].astype(ordered_cat)"
   ]
  },
  {
   "cell_type": "markdown",
   "metadata": {},
   "source": [
    "Duration is in seconds - let's calculate duration in minutes since this unit is much more convenient when working with bike rides:"
   ]
  },
  {
   "cell_type": "code",
   "execution_count": 20,
   "metadata": {},
   "outputs": [],
   "source": [
    "# Create new column with duration in minutes\n",
    "bikes['duration_min'] = bikes['duration_sec'] / 60"
   ]
  },
  {
   "cell_type": "markdown",
   "metadata": {},
   "source": [
    "The dataframe is quite big - remove columns that will not be used in further exploration: "
   ]
  },
  {
   "cell_type": "code",
   "execution_count": 21,
   "metadata": {},
   "outputs": [],
   "source": [
    "# Remove unnecessary columns\n",
    "bikes = bikes.drop(['start_time', 'end_time', 'start_station_latitude', 'start_station_longitude', \n",
    "                    'end_station_latitude', 'end_station_longitude', 'bike_share_for_all_trip', 'duration_sec'], axis = 1)"
   ]
  },
  {
   "cell_type": "markdown",
   "metadata": {},
   "source": [
    "Let's verify that the `bikes` dataframe contains desired columns, and variables are of the proper data types:"
   ]
  },
  {
   "cell_type": "code",
   "execution_count": 22,
   "metadata": {},
   "outputs": [
    {
     "data": {
      "text/plain": [
       "start_station_id       float64\n",
       "start_station_name      object\n",
       "end_station_id         float64\n",
       "end_station_name        object\n",
       "bike_id                  int64\n",
       "user_type             category\n",
       "year                     int64\n",
       "month                 category\n",
       "day                      int64\n",
       "weekday               category\n",
       "hour                     int64\n",
       "duration_min           float64\n",
       "dtype: object"
      ]
     },
     "execution_count": 22,
     "metadata": {},
     "output_type": "execute_result"
    }
   ],
   "source": [
    "# Check the result - correct datatypes and removal of selected columns\n",
    "bikes.dtypes"
   ]
  },
  {
   "cell_type": "markdown",
   "metadata": {},
   "source": [
    "Finally, confirm the changes by viewing a couple of sample records:"
   ]
  },
  {
   "cell_type": "code",
   "execution_count": 23,
   "metadata": {},
   "outputs": [
    {
     "data": {
      "text/html": [
       "<div>\n",
       "<style scoped>\n",
       "    .dataframe tbody tr th:only-of-type {\n",
       "        vertical-align: middle;\n",
       "    }\n",
       "\n",
       "    .dataframe tbody tr th {\n",
       "        vertical-align: top;\n",
       "    }\n",
       "\n",
       "    .dataframe thead th {\n",
       "        text-align: right;\n",
       "    }\n",
       "</style>\n",
       "<table border=\"1\" class=\"dataframe\">\n",
       "  <thead>\n",
       "    <tr style=\"text-align: right;\">\n",
       "      <th></th>\n",
       "      <th>start_station_id</th>\n",
       "      <th>start_station_name</th>\n",
       "      <th>end_station_id</th>\n",
       "      <th>end_station_name</th>\n",
       "      <th>bike_id</th>\n",
       "      <th>user_type</th>\n",
       "      <th>year</th>\n",
       "      <th>month</th>\n",
       "      <th>day</th>\n",
       "      <th>weekday</th>\n",
       "      <th>hour</th>\n",
       "      <th>duration_min</th>\n",
       "    </tr>\n",
       "  </thead>\n",
       "  <tbody>\n",
       "    <tr>\n",
       "      <th>720237</th>\n",
       "      <td>18.0</td>\n",
       "      <td>Telegraph Ave at Alcatraz Ave</td>\n",
       "      <td>241.0</td>\n",
       "      <td>Ashby BART Station</td>\n",
       "      <td>1556</td>\n",
       "      <td>Subscriber</td>\n",
       "      <td>2018</td>\n",
       "      <td>February</td>\n",
       "      <td>1</td>\n",
       "      <td>Thursday</td>\n",
       "      <td>8</td>\n",
       "      <td>5.333333</td>\n",
       "    </tr>\n",
       "    <tr>\n",
       "      <th>322404</th>\n",
       "      <td>7.0</td>\n",
       "      <td>Frank H Ogawa Plaza</td>\n",
       "      <td>227.0</td>\n",
       "      <td>Foothill Blvd at Fruitvale Ave</td>\n",
       "      <td>247</td>\n",
       "      <td>Subscriber</td>\n",
       "      <td>2017</td>\n",
       "      <td>September</td>\n",
       "      <td>21</td>\n",
       "      <td>Thursday</td>\n",
       "      <td>18</td>\n",
       "      <td>25.083333</td>\n",
       "    </tr>\n",
       "    <tr>\n",
       "      <th>1207755</th>\n",
       "      <td>6.0</td>\n",
       "      <td>The Embarcadero at Sansome St</td>\n",
       "      <td>15.0</td>\n",
       "      <td>San Francisco Ferry Building (Harry Bridges Pl...</td>\n",
       "      <td>3882</td>\n",
       "      <td>Customer</td>\n",
       "      <td>2018</td>\n",
       "      <td>June</td>\n",
       "      <td>21</td>\n",
       "      <td>Thursday</td>\n",
       "      <td>12</td>\n",
       "      <td>5.433333</td>\n",
       "    </tr>\n",
       "    <tr>\n",
       "      <th>2177986</th>\n",
       "      <td>132.0</td>\n",
       "      <td>24th St at Chattanooga St</td>\n",
       "      <td>130.0</td>\n",
       "      <td>22nd St Caltrain Station</td>\n",
       "      <td>964</td>\n",
       "      <td>Subscriber</td>\n",
       "      <td>2018</td>\n",
       "      <td>November</td>\n",
       "      <td>14</td>\n",
       "      <td>Wednesday</td>\n",
       "      <td>5</td>\n",
       "      <td>15.500000</td>\n",
       "    </tr>\n",
       "    <tr>\n",
       "      <th>295168</th>\n",
       "      <td>22.0</td>\n",
       "      <td>Howard St at Beale St</td>\n",
       "      <td>26.0</td>\n",
       "      <td>1st St at Folsom St</td>\n",
       "      <td>278</td>\n",
       "      <td>Subscriber</td>\n",
       "      <td>2017</td>\n",
       "      <td>September</td>\n",
       "      <td>29</td>\n",
       "      <td>Friday</td>\n",
       "      <td>14</td>\n",
       "      <td>2.450000</td>\n",
       "    </tr>\n",
       "    <tr>\n",
       "      <th>1697642</th>\n",
       "      <td>162.0</td>\n",
       "      <td>Franklin St at 9th St</td>\n",
       "      <td>203.0</td>\n",
       "      <td>Webster St at 2nd St</td>\n",
       "      <td>555</td>\n",
       "      <td>Subscriber</td>\n",
       "      <td>2018</td>\n",
       "      <td>August</td>\n",
       "      <td>6</td>\n",
       "      <td>Monday</td>\n",
       "      <td>16</td>\n",
       "      <td>4.600000</td>\n",
       "    </tr>\n",
       "    <tr>\n",
       "      <th>2355360</th>\n",
       "      <td>21.0</td>\n",
       "      <td>Montgomery St BART Station (Market St at 2nd St)</td>\n",
       "      <td>343.0</td>\n",
       "      <td>Bryant St at 2nd St</td>\n",
       "      <td>3391</td>\n",
       "      <td>Subscriber</td>\n",
       "      <td>2018</td>\n",
       "      <td>December</td>\n",
       "      <td>7</td>\n",
       "      <td>Friday</td>\n",
       "      <td>7</td>\n",
       "      <td>6.083333</td>\n",
       "    </tr>\n",
       "    <tr>\n",
       "      <th>1066030</th>\n",
       "      <td>44.0</td>\n",
       "      <td>Civic Center/UN Plaza BART Station (Market St ...</td>\n",
       "      <td>17.0</td>\n",
       "      <td>Embarcadero BART Station (Beale St at Market St)</td>\n",
       "      <td>3144</td>\n",
       "      <td>Subscriber</td>\n",
       "      <td>2018</td>\n",
       "      <td>May</td>\n",
       "      <td>14</td>\n",
       "      <td>Monday</td>\n",
       "      <td>11</td>\n",
       "      <td>6.950000</td>\n",
       "    </tr>\n",
       "    <tr>\n",
       "      <th>1665414</th>\n",
       "      <td>30.0</td>\n",
       "      <td>San Francisco Caltrain (Townsend St at 4th St)</td>\n",
       "      <td>78.0</td>\n",
       "      <td>Folsom St at 9th St</td>\n",
       "      <td>2128</td>\n",
       "      <td>Subscriber</td>\n",
       "      <td>2018</td>\n",
       "      <td>August</td>\n",
       "      <td>10</td>\n",
       "      <td>Friday</td>\n",
       "      <td>20</td>\n",
       "      <td>11.500000</td>\n",
       "    </tr>\n",
       "    <tr>\n",
       "      <th>1079908</th>\n",
       "      <td>93.0</td>\n",
       "      <td>4th St at Mission Bay Blvd S</td>\n",
       "      <td>130.0</td>\n",
       "      <td>22nd St Caltrain Station</td>\n",
       "      <td>2623</td>\n",
       "      <td>Customer</td>\n",
       "      <td>2018</td>\n",
       "      <td>May</td>\n",
       "      <td>11</td>\n",
       "      <td>Friday</td>\n",
       "      <td>11</td>\n",
       "      <td>10.800000</td>\n",
       "    </tr>\n",
       "  </tbody>\n",
       "</table>\n",
       "</div>"
      ],
      "text/plain": [
       "         start_station_id                                 start_station_name  \\\n",
       "720237               18.0                      Telegraph Ave at Alcatraz Ave   \n",
       "322404                7.0                                Frank H Ogawa Plaza   \n",
       "1207755               6.0                      The Embarcadero at Sansome St   \n",
       "2177986             132.0                          24th St at Chattanooga St   \n",
       "295168               22.0                              Howard St at Beale St   \n",
       "1697642             162.0                              Franklin St at 9th St   \n",
       "2355360              21.0   Montgomery St BART Station (Market St at 2nd St)   \n",
       "1066030              44.0  Civic Center/UN Plaza BART Station (Market St ...   \n",
       "1665414              30.0     San Francisco Caltrain (Townsend St at 4th St)   \n",
       "1079908              93.0                       4th St at Mission Bay Blvd S   \n",
       "\n",
       "         end_station_id                                   end_station_name  \\\n",
       "720237            241.0                                 Ashby BART Station   \n",
       "322404            227.0                     Foothill Blvd at Fruitvale Ave   \n",
       "1207755            15.0  San Francisco Ferry Building (Harry Bridges Pl...   \n",
       "2177986           130.0                           22nd St Caltrain Station   \n",
       "295168             26.0                                1st St at Folsom St   \n",
       "1697642           203.0                               Webster St at 2nd St   \n",
       "2355360           343.0                                Bryant St at 2nd St   \n",
       "1066030            17.0   Embarcadero BART Station (Beale St at Market St)   \n",
       "1665414            78.0                                Folsom St at 9th St   \n",
       "1079908           130.0                           22nd St Caltrain Station   \n",
       "\n",
       "         bike_id   user_type  year      month  day    weekday  hour  \\\n",
       "720237      1556  Subscriber  2018   February    1   Thursday     8   \n",
       "322404       247  Subscriber  2017  September   21   Thursday    18   \n",
       "1207755     3882    Customer  2018       June   21   Thursday    12   \n",
       "2177986      964  Subscriber  2018   November   14  Wednesday     5   \n",
       "295168       278  Subscriber  2017  September   29     Friday    14   \n",
       "1697642      555  Subscriber  2018     August    6     Monday    16   \n",
       "2355360     3391  Subscriber  2018   December    7     Friday     7   \n",
       "1066030     3144  Subscriber  2018        May   14     Monday    11   \n",
       "1665414     2128  Subscriber  2018     August   10     Friday    20   \n",
       "1079908     2623    Customer  2018        May   11     Friday    11   \n",
       "\n",
       "         duration_min  \n",
       "720237       5.333333  \n",
       "322404      25.083333  \n",
       "1207755      5.433333  \n",
       "2177986     15.500000  \n",
       "295168       2.450000  \n",
       "1697642      4.600000  \n",
       "2355360      6.083333  \n",
       "1066030      6.950000  \n",
       "1665414     11.500000  \n",
       "1079908     10.800000  "
      ]
     },
     "execution_count": 23,
     "metadata": {},
     "output_type": "execute_result"
    }
   ],
   "source": [
    "# View 10 random records\n",
    "bikes.sample(10)"
   ]
  },
  {
   "cell_type": "markdown",
   "metadata": {},
   "source": [
    "## Univariate Exploration"
   ]
  },
  {
   "cell_type": "markdown",
   "metadata": {},
   "source": [
    "### Trip duration\n",
    "Trip duration is a continuous numeric variable, therefore histogram is an appropriate univariate visualization:"
   ]
  },
  {
   "cell_type": "code",
   "execution_count": 24,
   "metadata": {},
   "outputs": [
    {
     "data": {
      "image/png": "[encoded data removed]",
      "text/plain": [
       "<Figure size 432x288 with 1 Axes>"
      ]
     },
     "metadata": {
      "needs_background": "light"
     },
     "output_type": "display_data"
    }
   ],
   "source": [
    "# Create 10 minutes intervals\n",
    "bin_edges = np.arange(0, bikes['duration_min'].max()+10, 10)\n",
    "\n",
    "# Create histogram\n",
    "sb.distplot(bikes['duration_min'], bins = bin_edges, kde = False, hist_kws = {'alpha': 1})\n",
    "plt.xlabel('Ride duration (minutes)')\n",
    "plt.ylabel('The number of rides');"
   ]
  },
  {
   "cell_type": "markdown",
   "metadata": {},
   "source": [
    "It looks like the majority of rides is shorter than around 100 minutes, and that there are some rides also above 200 minutes, which is unfortunately not visible in the chart above. Let's check the number of these rides with duration above 200 minutes (12,000 seconds):"
   ]
  },
  {
   "cell_type": "code",
   "execution_count": 25,
   "metadata": {},
   "outputs": [
    {
     "data": {
      "text/plain": [
       "11907"
      ]
     },
     "execution_count": 25,
     "metadata": {},
     "output_type": "execute_result"
    }
   ],
   "source": [
    "# The number of rides with long duration\n",
    "bikes[bikes['duration_min'] > 200].shape[0]"
   ]
  },
  {
   "cell_type": "markdown",
   "metadata": {},
   "source": [
    "Distribution is strongly positively skewed - create a histogram under logarithmic scale:"
   ]
  },
  {
   "cell_type": "code",
   "execution_count": 26,
   "metadata": {},
   "outputs": [
    {
     "data": {
      "image/png": "[encoded data removed]",
      "text/plain": [
       "<Figure size 432x288 with 1 Axes>"
      ]
     },
     "metadata": {
      "needs_background": "light"
     },
     "output_type": "display_data"
    }
   ],
   "source": [
    "# Histogram with log scaled x-axis\n",
    "bin_edges = 10 ** np.arange(0, np.log10(bikes['duration_min'].max())+0.1, 0.1)\n",
    "sb.distplot(bikes['duration_min'], bins = bin_edges, kde=False, hist_kws = {'alpha' : 1})\n",
    "\n",
    "plt.xscale('log')\n",
    "tick_locs = [1, 2, 5, 10, 20, 50, 100, 200, 500, 1000, 2000]\n",
    "plt.xticks(tick_locs, tick_locs)\n",
    "\n",
    "plt.xlabel('Ride duration (minutes)')\n",
    "plt.ylabel('Number of rides');"
   ]
  },
  {
   "cell_type": "markdown",
   "metadata": {},
   "source": [
    "Under the logarithmic scale, data follow unimodal distribution centered around 5-15 minutes that is still skewed to the right. The peak suggests that most of the rides were rather short.  \n",
    "\n",
    "Visualize the long rides separately - create a subset dataframe first and check the number of records in it:"
   ]
  },
  {
   "cell_type": "code",
   "execution_count": 27,
   "metadata": {},
   "outputs": [
    {
     "name": "stdout",
     "output_type": "stream",
     "text": [
      "Number of rides with duration above 200 minutes: 11907\n"
     ]
    }
   ],
   "source": [
    "long_rides = bikes[bikes['duration_min'] > 200]\n",
    "print('Number of rides with duration above 200 minutes: {}'.format(long_rides.shape[0]))"
   ]
  },
  {
   "cell_type": "code",
   "execution_count": 28,
   "metadata": {},
   "outputs": [
    {
     "data": {
      "image/png": "[encoded data removed]",
      "text/plain": [
       "<Figure size 432x288 with 1 Axes>"
      ]
     },
     "metadata": {
      "needs_background": "light"
     },
     "output_type": "display_data"
    }
   ],
   "source": [
    "# Create 10 minutes intervals\n",
    "bin_edges = np.arange(200, long_rides['duration_min'].max()+50, 50)\n",
    "\n",
    "# Create histogram\n",
    "sb.distplot(long_rides['duration_min'], bins = bin_edges, kde = False, hist_kws = {'alpha': 1})\n",
    "plt.xlabel('Ride duration (minutes)')\n",
    "plt.ylabel('The number of rides');"
   ]
  },
  {
   "cell_type": "markdown",
   "metadata": {},
   "source": [
    "The number of rides decreases until about 600 minutes (10 hours) duration is reached, then it stays at more or less constant level. The longest trips are probably because of a user couldn't return the bike due to some reasons. Obviously, this information is not present in the data.  \n",
    "\n",
    "When it comes to trip duration, following questions would be of interest:\n",
    "- What time of year, month and day do the short and long trips occur? \n",
    "- Do they happen on week days or weekends?"
   ]
  },
  {
   "cell_type": "markdown",
   "metadata": {},
   "source": [
    "### Year, month, and day\n",
    "Questions relevant to year, month, and day columns:\n",
    "- What is the distribution of trips during year (month/season), and month (day of a month/start, middle, end of a month)?\n",
    "- Are there more trips in summer months comparing to other seasons?\n",
    "- Is the beginning of month better than the end in terms of bikes utilization?  \n",
    "\n",
    "Year, month and day are categorical variables in nature, and the values should be logically ordered: from 2017 to 2018, from January to December, and from the first to the last day of month."
   ]
  },
  {
   "cell_type": "code",
   "execution_count": 29,
   "metadata": {},
   "outputs": [],
   "source": [
    "# Set the base color for all plots\n",
    "base_color = sb.color_palette()[0]"
   ]
  },
  {
   "cell_type": "code",
   "execution_count": 34,
   "metadata": {},
   "outputs": [],
   "source": [
    "# Define function to plot bar charts with absolute counts and relative proportions side by side\n",
    "def bar_plot(data, x, x_label, y_tick_step = 0.10, rotation = 0):\n",
    "    plt.figure(figsize = (16, 6))\n",
    "\n",
    "    # Absolute counts\n",
    "    plt.subplot(1, 2, 1)\n",
    "    sb.countplot(data = data, x = x, color = base_color)\n",
    "    plt.xlabel(x_label)\n",
    "    plt.xticks(rotation = rotation)\n",
    "    plt.ylabel('The number of rides')\n",
    "\n",
    "    # Relative proportions\n",
    "    max_year_count = data[x].value_counts().values[0]\n",
    "    all_count = data.shape[0]\n",
    "    max_proportion = max_year_count/all_count\n",
    "\n",
    "    tick_props = np.arange(0, max_proportion + y_tick_step, y_tick_step)\n",
    "    tick_names = ['{:0.2f}'.format(v) for v in tick_props]\n",
    "\n",
    "    plt.subplot(1, 2, 2)\n",
    "    sb.countplot(data = data, x = x, color = base_color)\n",
    "    plt.xticks(rotation = rotation)\n",
    "    plt.yticks(tick_props * all_count, tick_names)\n",
    "    plt.xlabel(x_label)\n",
    "    plt.ylabel('The proportion of rides');"
   ]
  },
  {
   "cell_type": "code",
   "execution_count": 35,
   "metadata": {},
   "outputs": [
    {
     "data": {
      "image/png": "[encoded data removed]",
      "text/plain": [
       "<Figure size 1152x432 with 2 Axes>"
      ]
     },
     "metadata": {
      "needs_background": "light"
     },
     "output_type": "display_data"
    }
   ],
   "source": [
    "# Bar plots for year\n",
    "bar_plot(bikes, 'year', 'Year')"
   ]
  },
  {
   "cell_type": "code",
   "execution_count": 36,
   "metadata": {},
   "outputs": [
    {
     "data": {
      "image/png": "[encoded data removed]",
      "text/plain": [
       "<Figure size 1152x432 with 2 Axes>"
      ]
     },
     "metadata": {
      "needs_background": "light"
     },
     "output_type": "display_data"
    }
   ],
   "source": [
    "# Bar plots for months\n",
    "bar_plot(bikes, 'month', 'Month', 0.02, 45)"
   ]
  },
  {
   "cell_type": "code",
   "execution_count": 38,
   "metadata": {},
   "outputs": [
    {
     "data": {
      "image/png": "[encoded data removed]",
      "text/plain": [
       "<Figure size 1152x432 with 2 Axes>"
      ]
     },
     "metadata": {
      "needs_background": "light"
     },
     "output_type": "display_data"
    }
   ],
   "source": [
    "# Bar plots for day of month\n",
    "bar_plot(bikes, 'day', 'Day', 0.01)"
   ]
  },
  {
   "cell_type": "markdown",
   "metadata": {},
   "source": [
    "Let's summarize what can be observed from the above bar plots and formulate questions to be further explored:  \n",
    "__Year__  \n",
    "There is a significant increase of bike rides from 2017 to 2018 - there are around 500,000 rides in 2017, and more than 1,750,000 rides in 2018, which is ca. 1:4 ratio. In other words, the number of rides increased approximately four times from 2017 to 2018. Why is that? Is it possible that the bike sharing system started only later in 2017?  \n",
    "\n",
    "__Month__  \n",
    "The most trips were made in October followed by September and August. On the contrary, the least trips were made from January to April. Is there a relationship between month and year? Would there be the same pattern when looking at 2017 and 2018 individually?\n",
    "\n",
    "__Day__  \n",
    "There is quite regular distribution of trips among days. The only exception is the 31st day - but, not all months have 31 days, which could be the reason of the decreased number of rides. "
   ]
  },
  {
   "cell_type": "markdown",
   "metadata": {},
   "source": [
    "### Weekday or weekend?\n",
    "Look at the ride distribution over days in a week - from Monday to Sunday:"
   ]
  },
  {
   "cell_type": "code",
   "execution_count": 39,
   "metadata": {},
   "outputs": [
    {
     "data": {
      "image/png": "[encoded data removed]",
      "text/plain": [
       "<Figure size 1152x432 with 2 Axes>"
      ]
     },
     "metadata": {
      "needs_background": "light"
     },
     "output_type": "display_data"
    }
   ],
   "source": [
    "# Bar plots for day of week\n",
    "bar_plot(bikes, 'weekday', 'Day of week', 0.02)"
   ]
  },
  {
   "cell_type": "markdown",
   "metadata": {},
   "source": [
    "Weekdays (from Monday to Friday) have almost equal number of rides. On the contrary, weekends (Saturday and Sunday) are weak. Following questions arise:\n",
    "- What is the distribution of user types? Are the weekday users subscribers, because it might be more convenient to subscribe in case of regular usage? \n",
    "- On the other hand, are the weekend users casual customers?"
   ]
  },
  {
   "cell_type": "markdown",
   "metadata": {},
   "source": [
    "### Hour of day\n",
    "Let's find out when the majority of rides happens during a single day:"
   ]
  },
  {
   "cell_type": "code",
   "execution_count": 40,
   "metadata": {},
   "outputs": [
    {
     "data": {
      "image/png": "[encoded data removed]",
      "text/plain": [
       "<Figure size 1152x432 with 2 Axes>"
      ]
     },
     "metadata": {
      "needs_background": "light"
     },
     "output_type": "display_data"
    }
   ],
   "source": [
    "# Bar plots for hour of day\n",
    "bar_plot(bikes, 'hour', 'Hour of day', 0.02)"
   ]
  },
  {
   "cell_type": "markdown",
   "metadata": {},
   "source": [
    "The number of rides during a day follows bimodal distribution and there are two spikes - at around 8-9 in the morning and at 17-18 in the afternoon. These could correspond to times when people travel to work and from work, or school. There is a local minimum in between. The least number of rides happen at night and early in the morning, i.e. between 0 and 5. The distribution could differ for weekdays and weekends. I'll look deeper in the further exploration."
   ]
  },
  {
   "cell_type": "markdown",
   "metadata": {},
   "source": [
    "### User type\n",
    "There are two types of users - subscribers and casual users (customers). What is their ratio?"
   ]
  },
  {
   "cell_type": "code",
   "execution_count": 41,
   "metadata": {},
   "outputs": [
    {
     "data": {
      "image/png": "[encoded data removed]",
      "text/plain": [
       "<Figure size 1152x432 with 2 Axes>"
      ]
     },
     "metadata": {
      "needs_background": "light"
     },
     "output_type": "display_data"
    }
   ],
   "source": [
    "# Bar plots for user_type\n",
    "bar_plot(bikes, 'user_type', 'User type', 0.1)"
   ]
  },
  {
   "cell_type": "code",
   "execution_count": 42,
   "metadata": {},
   "outputs": [
    {
     "data": {
      "text/plain": [
       "Subscriber    1992784\n",
       "Customer       390637\n",
       "Name: user_type, dtype: int64"
      ]
     },
     "execution_count": 42,
     "metadata": {},
     "output_type": "execute_result"
    }
   ],
   "source": [
    "# Check the numbers\n",
    "bikes['user_type'].value_counts()"
   ]
  },
  {
   "cell_type": "markdown",
   "metadata": {},
   "source": [
    "The vast majority of users are subscribers. It would be interesting to know when the two user types use the bike-sharing system the most - as already suggested above."
   ]
  },
  {
   "cell_type": "markdown",
   "metadata": {},
   "source": [
    "## Bivariate Exploration"
   ]
  },
  {
   "cell_type": "markdown",
   "metadata": {},
   "source": [
    "__Year vs. month__"
   ]
  },
  {
   "cell_type": "code",
   "execution_count": 44,
   "metadata": {},
   "outputs": [
    {
     "data": {
      "image/png": "[encoded data removed]",
      "text/plain": [
       "<Figure size 576x432 with 1 Axes>"
      ]
     },
     "metadata": {
      "needs_background": "light"
     },
     "output_type": "display_data"
    }
   ],
   "source": [
    "# Create clustered bar chart to show relationship year - month\n",
    "plt.figure(figsize = (8, 6))\n",
    "sb.countplot(data = bikes, x = 'month', hue = 'year', palette = 'Blues')\n",
    "plt.legend(title = 'Year', loc = 'upper left')\n",
    "plt.xlabel('Month')\n",
    "plt.ylabel('The number of rides')\n",
    "plt.xticks(rotation = 45);"
   ]
  },
  {
   "cell_type": "markdown",
   "metadata": {},
   "source": [
    "Data for 2017 is not complete - Ford GoBike began operation only in June 2017 (see [Bay Wheels](https://en.wikipedia.org/wiki/Bay_Wheels)). Still, the number of users was increasing from June 2017 to October 2017, then it slightly dropped in November-December 2017. But then it increased again, and the number of users was higher in January 2018 when compared to December 2017.  \n",
    "In 2018, the most rides occurred from May to October. This observation differs from the observation made on the basis of the univariate month bar chart above, where June and July had significantly less bike rides comparing to autumn months. The reason: missing 2017 data.  "
   ]
  },
  {
   "cell_type": "markdown",
   "metadata": {},
   "source": [
    "### Month vs. day of month\n",
    "Create a heatmap to show the number of rides distribution over months and days to see whether there are specific month days with elevated bike usage. Start with a heatmap for both years:"
   ]
  },
  {
   "cell_type": "code",
   "execution_count": 45,
   "metadata": {},
   "outputs": [
    {
     "data": {
      "image/png": "[encoded data removed]",
      "text/plain": [
       "<Figure size 864x432 with 2 Axes>"
      ]
     },
     "metadata": {
      "needs_background": "light"
     },
     "output_type": "display_data"
    }
   ],
   "source": [
    "# Create proper data structure for a heatmap\n",
    "ride_counts = bikes.groupby(['day', 'month']).size()\n",
    "ride_counts = ride_counts.reset_index(name = 'count')\n",
    "ride_counts = ride_counts.pivot(index = 'month', columns = 'day', values = 'count')\n",
    "\n",
    "# Create a heatmap\n",
    "plt.figure(figsize = (12, 6))\n",
    "sb.heatmap(ride_counts, cmap = 'cividis_r', vmin = 0)\n",
    "plt.xlabel('Day of month')\n",
    "plt.ylabel('Month');"
   ]
  },
  {
   "cell_type": "markdown",
   "metadata": {},
   "source": [
    "The days with the highest number of rides occur from September to November. However, this effect is due to the fact that the bike sharing system started only in the second half of the year 2017. Therefore it's more appropriate to create separate heatmaps.  \n",
    "\n",
    "First step is to generate proper data structures - subsets - that can be visualized as heatmaps. The table for the 2017 data had to be adjusted to contain rows for missing months (January - June) to generate heatmaps with the same axes. A post on stackoverflow [Take multiple lists into dataframe](https://stackoverflow.com/questions/30522724/take-multiple-lists-into-dataframe) was helpful when creating dummy dataframe. I added one colorbar for both heatmaps with the help of code in another post [One horizontal colorbar for seaborn heatmaps subplots and Annot Issue with xticklabels](https://stackoverflow.com/questions/45122416/one-horizontal-colorbar-for-seaborn-heatmaps-subplots-and-annot-issue-with-xtick)."
   ]
  },
  {
   "cell_type": "code",
   "execution_count": 51,
   "metadata": {},
   "outputs": [],
   "source": [
    "# Create proper data structures - one for 2017 and one for 2018 rides\n",
    "# 2018\n",
    "ride_counts_18 = bikes[bikes['year'] == 2018].groupby(['day', 'month']).size()\n",
    "ride_counts_18 = ride_counts_18.reset_index(name = 'count')\n",
    "ride_counts_18 = ride_counts_18.pivot(index = 'month', columns = 'day', values = 'count')\n",
    "\n",
    "# 2017\n",
    "ride_counts_17 = bikes[bikes['year'] == 2017].groupby(['day', 'month']).size()\n",
    "ride_counts_17 = ride_counts_17.reset_index(name = 'count')\n",
    "\n",
    "# 2017 data is not complete - add empty values for January to June to get same axes for both 2017 and 2018 heatmaps\n",
    "months = ['January', 'February', 'March', 'April', 'May', 'June']\n",
    "day = [1] * 6\n",
    "count = np.NaN\n",
    "add_counts = pd.DataFrame({'day': day, 'month': months, 'count': count})\n",
    "ride_counts_17 = pd.concat([ride_counts_17, add_counts], ignore_index = True, axis = 0, sort = False)\n",
    "\n",
    "# Convert month to categorical variable\n",
    "level_order = ['January', 'February', 'March', 'April', 'May', 'June', 'July', 'August', 'September', 'October', 'November', 'December']\n",
    "ordered_cat = pd.api.types.CategoricalDtype(ordered = True, categories = level_order)\n",
    "ride_counts_17['month'] = ride_counts_17['month'].astype(ordered_cat)\n",
    "\n",
    "ride_counts_17 = ride_counts_17.pivot(index = 'month', columns = 'day', values = 'count')"
   ]
  },
  {
   "cell_type": "code",
   "execution_count": 54,
   "metadata": {},
   "outputs": [
    {
     "data": {
      "image/png": "[encoded data removed]",
      "text/plain": [
       "<Figure size 1440x432 with 3 Axes>"
      ]
     },
     "metadata": {
      "needs_background": "light"
     },
     "output_type": "display_data"
    }
   ],
   "source": [
    "# Create heatmaps\n",
    "plt.figure(figsize = (20, 6))\n",
    "min_count = 0\n",
    "max_count = ride_counts_18.max().max()\n",
    "\n",
    "# Right\n",
    "plt.subplot(1, 2, 2)\n",
    "ax1 = sb.heatmap(ride_counts_18, cmap = 'cividis_r', vmin = min_count, vmax = max_count, cbar = False)\n",
    "plt.xlabel('Day of month')\n",
    "plt.ylabel('')\n",
    "plt.title('2018')\n",
    "\n",
    "# Left\n",
    "plt.subplot(1, 2, 1)\n",
    "ax2 = sb.heatmap(ride_counts_17, cmap = 'cividis_r', vmin = min_count, vmax = max_count, cbar = False)\n",
    "plt.xlabel('Day of month')\n",
    "plt.ylabel('Month')\n",
    "plt.title('2017')\n",
    "\n",
    "mappable = ax1.get_children()[0]\n",
    "plt.colorbar(mappable, ax = [ax1, ax2], orientation = 'vertical');"
   ]
  },
  {
   "cell_type": "markdown",
   "metadata": {},
   "source": [
    "In 2018, the highest number of rides happens from May to October. There is a pattern showing that 5 days in a row have more rides than the following 2 days - this observation is in alignment with the observation made on the basis of univariate distribution above. However, here it looks like it holds for every month. On the other hand, the distribution over the months is uniform - one cannot observe any significant differences between the months' starts and ends - the only exception is December, but this is probably because of winter and worse weather conditions.  \n",
    "The observed '5-2' pattern can be observed also in 2017 data, and it starts soon after the start of the bike sharing system. Next, let's verify that those 5 days are really weekdays and the 2 days are Saturdays and Sundays."
   ]
  },
  {
   "cell_type": "code",
   "execution_count": null,
   "metadata": {},
   "outputs": [],
   "source": []
  }
 ],
 "metadata": {
  "kernelspec": {
   "display_name": "Python 3",
   "language": "python",
   "name": "python3"
  },
  "language_info": {
   "codemirror_mode": {
    "name": "ipython",
    "version": 3
   },
   "file_extension": ".py",
   "mimetype": "text/x-python",
   "name": "python",
   "nbconvert_exporter": "python",
   "pygments_lexer": "ipython3",
   "version": "3.7.4"
  }
 },
 "nbformat": 4,
 "nbformat_minor": 4
}
